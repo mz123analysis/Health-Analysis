{
 "cells": [
  {
   "attachments": {},
   "cell_type": "markdown",
   "metadata": {},
   "source": [
    "## Overview"
   ]
  },
  {
   "cell_type": "markdown",
   "metadata": {},
   "source": [
    "Exploratory Data Analysis of our data will be done. This will allow us to determine which factors may or may not have an impact on whether a person has Diabetes, Hypertension, and/or Stroke.\n",
    "\n",
    "After we determine potential factors, we will then do machine learning to try and predict whether a person will have Diabetes, Hypertension, and Stroke based on the factors we have analyzed.\n",
    "\n",
    "First we import packages for our analysis of the data and store our data in to a dataframe:"
   ]
  },
  {
   "cell_type": "code",
   "execution_count": 99,
   "metadata": {},
   "outputs": [],
   "source": [
    "import pandas as pd\n",
    "import numpy as np\n",
    "import matplotlib.pyplot as plt\n",
    "import seaborn as sns\n",
    "import sklearn\n",
    "import statsmodels.api as sm\n",
    "import tensorflow as tf\n",
    "from scipy.stats import f_oneway\n",
    "from tensorflow import keras \n",
    "from sklearn.tree import DecisionTreeClassifier\n",
    "from sklearn.model_selection import train_test_split\n",
    "from sklearn.pipeline import Pipeline\n",
    "from sklearn.ensemble import RandomForestClassifier\n",
    "from sklearn.metrics import accuracy_score\n",
    "from xgboost import XGBClassifier\n",
    "from sklearn.preprocessing import OneHotEncoder\n"
   ]
  },
  {
   "attachments": {},
   "cell_type": "markdown",
   "metadata": {},
   "source": [
    "## Uploading of our data"
   ]
  },
  {
   "cell_type": "code",
   "execution_count": 100,
   "metadata": {},
   "outputs": [
    {
     "data": {
      "text/html": [
       "<div>\n",
       "<style scoped>\n",
       "    .dataframe tbody tr th:only-of-type {\n",
       "        vertical-align: middle;\n",
       "    }\n",
       "\n",
       "    .dataframe tbody tr th {\n",
       "        vertical-align: top;\n",
       "    }\n",
       "\n",
       "    .dataframe thead th {\n",
       "        text-align: right;\n",
       "    }\n",
       "</style>\n",
       "<table border=\"1\" class=\"dataframe\">\n",
       "  <thead>\n",
       "    <tr style=\"text-align: right;\">\n",
       "      <th></th>\n",
       "      <th>Age</th>\n",
       "      <th>Sex</th>\n",
       "      <th>HighChol</th>\n",
       "      <th>CholCheck</th>\n",
       "      <th>BMI</th>\n",
       "      <th>Smoker</th>\n",
       "      <th>HeartDiseaseorAttack</th>\n",
       "      <th>PhysActivity</th>\n",
       "      <th>Fruits</th>\n",
       "      <th>Veggies</th>\n",
       "      <th>HvyAlcoholConsump</th>\n",
       "      <th>GenHlth</th>\n",
       "      <th>MentHlth</th>\n",
       "      <th>PhysHlth</th>\n",
       "      <th>DiffWalk</th>\n",
       "      <th>Diabetes</th>\n",
       "      <th>Hypertension</th>\n",
       "      <th>Stroke</th>\n",
       "    </tr>\n",
       "  </thead>\n",
       "  <tbody>\n",
       "    <tr>\n",
       "      <th>0</th>\n",
       "      <td>4.0</td>\n",
       "      <td>1.0</td>\n",
       "      <td>0.0</td>\n",
       "      <td>1.0</td>\n",
       "      <td>26.0</td>\n",
       "      <td>0.0</td>\n",
       "      <td>0.0</td>\n",
       "      <td>1.0</td>\n",
       "      <td>0.0</td>\n",
       "      <td>1.0</td>\n",
       "      <td>0.0</td>\n",
       "      <td>3.0</td>\n",
       "      <td>5.0</td>\n",
       "      <td>30.0</td>\n",
       "      <td>0.0</td>\n",
       "      <td>0.0</td>\n",
       "      <td>1.0</td>\n",
       "      <td>0.0</td>\n",
       "    </tr>\n",
       "    <tr>\n",
       "      <th>1</th>\n",
       "      <td>12.0</td>\n",
       "      <td>1.0</td>\n",
       "      <td>1.0</td>\n",
       "      <td>1.0</td>\n",
       "      <td>26.0</td>\n",
       "      <td>1.0</td>\n",
       "      <td>0.0</td>\n",
       "      <td>0.0</td>\n",
       "      <td>1.0</td>\n",
       "      <td>0.0</td>\n",
       "      <td>0.0</td>\n",
       "      <td>3.0</td>\n",
       "      <td>0.0</td>\n",
       "      <td>0.0</td>\n",
       "      <td>0.0</td>\n",
       "      <td>0.0</td>\n",
       "      <td>1.0</td>\n",
       "      <td>1.0</td>\n",
       "    </tr>\n",
       "    <tr>\n",
       "      <th>2</th>\n",
       "      <td>13.0</td>\n",
       "      <td>1.0</td>\n",
       "      <td>0.0</td>\n",
       "      <td>1.0</td>\n",
       "      <td>26.0</td>\n",
       "      <td>0.0</td>\n",
       "      <td>0.0</td>\n",
       "      <td>1.0</td>\n",
       "      <td>1.0</td>\n",
       "      <td>1.0</td>\n",
       "      <td>0.0</td>\n",
       "      <td>1.0</td>\n",
       "      <td>0.0</td>\n",
       "      <td>10.0</td>\n",
       "      <td>0.0</td>\n",
       "      <td>0.0</td>\n",
       "      <td>0.0</td>\n",
       "      <td>0.0</td>\n",
       "    </tr>\n",
       "    <tr>\n",
       "      <th>3</th>\n",
       "      <td>11.0</td>\n",
       "      <td>1.0</td>\n",
       "      <td>1.0</td>\n",
       "      <td>1.0</td>\n",
       "      <td>28.0</td>\n",
       "      <td>1.0</td>\n",
       "      <td>0.0</td>\n",
       "      <td>1.0</td>\n",
       "      <td>1.0</td>\n",
       "      <td>1.0</td>\n",
       "      <td>0.0</td>\n",
       "      <td>3.0</td>\n",
       "      <td>0.0</td>\n",
       "      <td>3.0</td>\n",
       "      <td>0.0</td>\n",
       "      <td>0.0</td>\n",
       "      <td>1.0</td>\n",
       "      <td>0.0</td>\n",
       "    </tr>\n",
       "    <tr>\n",
       "      <th>4</th>\n",
       "      <td>8.0</td>\n",
       "      <td>0.0</td>\n",
       "      <td>0.0</td>\n",
       "      <td>1.0</td>\n",
       "      <td>29.0</td>\n",
       "      <td>1.0</td>\n",
       "      <td>0.0</td>\n",
       "      <td>1.0</td>\n",
       "      <td>1.0</td>\n",
       "      <td>1.0</td>\n",
       "      <td>0.0</td>\n",
       "      <td>2.0</td>\n",
       "      <td>0.0</td>\n",
       "      <td>0.0</td>\n",
       "      <td>0.0</td>\n",
       "      <td>0.0</td>\n",
       "      <td>0.0</td>\n",
       "      <td>0.0</td>\n",
       "    </tr>\n",
       "  </tbody>\n",
       "</table>\n",
       "</div>"
      ],
      "text/plain": [
       "    Age  Sex  HighChol  CholCheck   BMI  Smoker  HeartDiseaseorAttack  \\\n",
       "0   4.0  1.0       0.0        1.0  26.0     0.0                   0.0   \n",
       "1  12.0  1.0       1.0        1.0  26.0     1.0                   0.0   \n",
       "2  13.0  1.0       0.0        1.0  26.0     0.0                   0.0   \n",
       "3  11.0  1.0       1.0        1.0  28.0     1.0                   0.0   \n",
       "4   8.0  0.0       0.0        1.0  29.0     1.0                   0.0   \n",
       "\n",
       "   PhysActivity  Fruits  Veggies  HvyAlcoholConsump  GenHlth  MentHlth  \\\n",
       "0           1.0     0.0      1.0                0.0      3.0       5.0   \n",
       "1           0.0     1.0      0.0                0.0      3.0       0.0   \n",
       "2           1.0     1.0      1.0                0.0      1.0       0.0   \n",
       "3           1.0     1.0      1.0                0.0      3.0       0.0   \n",
       "4           1.0     1.0      1.0                0.0      2.0       0.0   \n",
       "\n",
       "   PhysHlth  DiffWalk  Diabetes  Hypertension  Stroke  \n",
       "0      30.0       0.0       0.0           1.0     0.0  \n",
       "1       0.0       0.0       0.0           1.0     1.0  \n",
       "2      10.0       0.0       0.0           0.0     0.0  \n",
       "3       3.0       0.0       0.0           1.0     0.0  \n",
       "4       0.0       0.0       0.0           0.0     0.0  "
      ]
     },
     "execution_count": 100,
     "metadata": {},
     "output_type": "execute_result"
    }
   ],
   "source": [
    "url = 'health_data.csv'\n",
    "da = pd.read_csv(url)\n",
    "\n",
    "da.head()"
   ]
  },
  {
   "cell_type": "code",
   "execution_count": 101,
   "metadata": {},
   "outputs": [
    {
     "data": {
      "text/html": [
       "<div>\n",
       "<style scoped>\n",
       "    .dataframe tbody tr th:only-of-type {\n",
       "        vertical-align: middle;\n",
       "    }\n",
       "\n",
       "    .dataframe tbody tr th {\n",
       "        vertical-align: top;\n",
       "    }\n",
       "\n",
       "    .dataframe thead th {\n",
       "        text-align: right;\n",
       "    }\n",
       "</style>\n",
       "<table border=\"1\" class=\"dataframe\">\n",
       "  <thead>\n",
       "    <tr style=\"text-align: right;\">\n",
       "      <th></th>\n",
       "      <th>Age</th>\n",
       "      <th>Sex</th>\n",
       "      <th>HighChol</th>\n",
       "      <th>CholCheck</th>\n",
       "      <th>BMI</th>\n",
       "      <th>Smoker</th>\n",
       "      <th>HeartDiseaseorAttack</th>\n",
       "      <th>PhysActivity</th>\n",
       "      <th>Fruits</th>\n",
       "      <th>Veggies</th>\n",
       "      <th>HvyAlcoholConsump</th>\n",
       "      <th>GenHlth</th>\n",
       "      <th>MentHlth</th>\n",
       "      <th>PhysHlth</th>\n",
       "      <th>DiffWalk</th>\n",
       "      <th>Diabetes</th>\n",
       "      <th>Hypertension</th>\n",
       "      <th>Stroke</th>\n",
       "    </tr>\n",
       "  </thead>\n",
       "  <tbody>\n",
       "    <tr>\n",
       "      <th>count</th>\n",
       "      <td>70692.000000</td>\n",
       "      <td>70692.000000</td>\n",
       "      <td>70692.000000</td>\n",
       "      <td>70692.000000</td>\n",
       "      <td>70692.000000</td>\n",
       "      <td>70692.000000</td>\n",
       "      <td>70692.000000</td>\n",
       "      <td>70692.000000</td>\n",
       "      <td>70692.000000</td>\n",
       "      <td>70692.000000</td>\n",
       "      <td>70692.000000</td>\n",
       "      <td>70692.000000</td>\n",
       "      <td>70692.000000</td>\n",
       "      <td>70692.000000</td>\n",
       "      <td>70692.000000</td>\n",
       "      <td>70692.000000</td>\n",
       "      <td>70692.000000</td>\n",
       "      <td>70692.000000</td>\n",
       "    </tr>\n",
       "    <tr>\n",
       "      <th>mean</th>\n",
       "      <td>8.584055</td>\n",
       "      <td>0.456997</td>\n",
       "      <td>0.525703</td>\n",
       "      <td>0.975259</td>\n",
       "      <td>29.856985</td>\n",
       "      <td>0.475273</td>\n",
       "      <td>0.147810</td>\n",
       "      <td>0.703036</td>\n",
       "      <td>0.611795</td>\n",
       "      <td>0.788774</td>\n",
       "      <td>0.042721</td>\n",
       "      <td>2.837082</td>\n",
       "      <td>3.752037</td>\n",
       "      <td>5.810417</td>\n",
       "      <td>0.252730</td>\n",
       "      <td>0.500000</td>\n",
       "      <td>0.563458</td>\n",
       "      <td>0.062171</td>\n",
       "    </tr>\n",
       "    <tr>\n",
       "      <th>std</th>\n",
       "      <td>2.852153</td>\n",
       "      <td>0.498151</td>\n",
       "      <td>0.499342</td>\n",
       "      <td>0.155336</td>\n",
       "      <td>7.113954</td>\n",
       "      <td>0.499392</td>\n",
       "      <td>0.354914</td>\n",
       "      <td>0.456924</td>\n",
       "      <td>0.487345</td>\n",
       "      <td>0.408181</td>\n",
       "      <td>0.202228</td>\n",
       "      <td>1.113565</td>\n",
       "      <td>8.155627</td>\n",
       "      <td>10.062261</td>\n",
       "      <td>0.434581</td>\n",
       "      <td>0.500004</td>\n",
       "      <td>0.495960</td>\n",
       "      <td>0.241468</td>\n",
       "    </tr>\n",
       "    <tr>\n",
       "      <th>min</th>\n",
       "      <td>1.000000</td>\n",
       "      <td>0.000000</td>\n",
       "      <td>0.000000</td>\n",
       "      <td>0.000000</td>\n",
       "      <td>12.000000</td>\n",
       "      <td>0.000000</td>\n",
       "      <td>0.000000</td>\n",
       "      <td>0.000000</td>\n",
       "      <td>0.000000</td>\n",
       "      <td>0.000000</td>\n",
       "      <td>0.000000</td>\n",
       "      <td>1.000000</td>\n",
       "      <td>0.000000</td>\n",
       "      <td>0.000000</td>\n",
       "      <td>0.000000</td>\n",
       "      <td>0.000000</td>\n",
       "      <td>0.000000</td>\n",
       "      <td>0.000000</td>\n",
       "    </tr>\n",
       "    <tr>\n",
       "      <th>25%</th>\n",
       "      <td>7.000000</td>\n",
       "      <td>0.000000</td>\n",
       "      <td>0.000000</td>\n",
       "      <td>1.000000</td>\n",
       "      <td>25.000000</td>\n",
       "      <td>0.000000</td>\n",
       "      <td>0.000000</td>\n",
       "      <td>0.000000</td>\n",
       "      <td>0.000000</td>\n",
       "      <td>1.000000</td>\n",
       "      <td>0.000000</td>\n",
       "      <td>2.000000</td>\n",
       "      <td>0.000000</td>\n",
       "      <td>0.000000</td>\n",
       "      <td>0.000000</td>\n",
       "      <td>0.000000</td>\n",
       "      <td>0.000000</td>\n",
       "      <td>0.000000</td>\n",
       "    </tr>\n",
       "    <tr>\n",
       "      <th>50%</th>\n",
       "      <td>9.000000</td>\n",
       "      <td>0.000000</td>\n",
       "      <td>1.000000</td>\n",
       "      <td>1.000000</td>\n",
       "      <td>29.000000</td>\n",
       "      <td>0.000000</td>\n",
       "      <td>0.000000</td>\n",
       "      <td>1.000000</td>\n",
       "      <td>1.000000</td>\n",
       "      <td>1.000000</td>\n",
       "      <td>0.000000</td>\n",
       "      <td>3.000000</td>\n",
       "      <td>0.000000</td>\n",
       "      <td>0.000000</td>\n",
       "      <td>0.000000</td>\n",
       "      <td>0.500000</td>\n",
       "      <td>1.000000</td>\n",
       "      <td>0.000000</td>\n",
       "    </tr>\n",
       "    <tr>\n",
       "      <th>75%</th>\n",
       "      <td>11.000000</td>\n",
       "      <td>1.000000</td>\n",
       "      <td>1.000000</td>\n",
       "      <td>1.000000</td>\n",
       "      <td>33.000000</td>\n",
       "      <td>1.000000</td>\n",
       "      <td>0.000000</td>\n",
       "      <td>1.000000</td>\n",
       "      <td>1.000000</td>\n",
       "      <td>1.000000</td>\n",
       "      <td>0.000000</td>\n",
       "      <td>4.000000</td>\n",
       "      <td>2.000000</td>\n",
       "      <td>6.000000</td>\n",
       "      <td>1.000000</td>\n",
       "      <td>1.000000</td>\n",
       "      <td>1.000000</td>\n",
       "      <td>0.000000</td>\n",
       "    </tr>\n",
       "    <tr>\n",
       "      <th>max</th>\n",
       "      <td>13.000000</td>\n",
       "      <td>1.000000</td>\n",
       "      <td>1.000000</td>\n",
       "      <td>1.000000</td>\n",
       "      <td>98.000000</td>\n",
       "      <td>1.000000</td>\n",
       "      <td>1.000000</td>\n",
       "      <td>1.000000</td>\n",
       "      <td>1.000000</td>\n",
       "      <td>1.000000</td>\n",
       "      <td>1.000000</td>\n",
       "      <td>5.000000</td>\n",
       "      <td>30.000000</td>\n",
       "      <td>30.000000</td>\n",
       "      <td>1.000000</td>\n",
       "      <td>1.000000</td>\n",
       "      <td>1.000000</td>\n",
       "      <td>1.000000</td>\n",
       "    </tr>\n",
       "  </tbody>\n",
       "</table>\n",
       "</div>"
      ],
      "text/plain": [
       "                Age           Sex      HighChol     CholCheck           BMI  \\\n",
       "count  70692.000000  70692.000000  70692.000000  70692.000000  70692.000000   \n",
       "mean       8.584055      0.456997      0.525703      0.975259     29.856985   \n",
       "std        2.852153      0.498151      0.499342      0.155336      7.113954   \n",
       "min        1.000000      0.000000      0.000000      0.000000     12.000000   \n",
       "25%        7.000000      0.000000      0.000000      1.000000     25.000000   \n",
       "50%        9.000000      0.000000      1.000000      1.000000     29.000000   \n",
       "75%       11.000000      1.000000      1.000000      1.000000     33.000000   \n",
       "max       13.000000      1.000000      1.000000      1.000000     98.000000   \n",
       "\n",
       "             Smoker  HeartDiseaseorAttack  PhysActivity        Fruits  \\\n",
       "count  70692.000000          70692.000000  70692.000000  70692.000000   \n",
       "mean       0.475273              0.147810      0.703036      0.611795   \n",
       "std        0.499392              0.354914      0.456924      0.487345   \n",
       "min        0.000000              0.000000      0.000000      0.000000   \n",
       "25%        0.000000              0.000000      0.000000      0.000000   \n",
       "50%        0.000000              0.000000      1.000000      1.000000   \n",
       "75%        1.000000              0.000000      1.000000      1.000000   \n",
       "max        1.000000              1.000000      1.000000      1.000000   \n",
       "\n",
       "            Veggies  HvyAlcoholConsump       GenHlth      MentHlth  \\\n",
       "count  70692.000000       70692.000000  70692.000000  70692.000000   \n",
       "mean       0.788774           0.042721      2.837082      3.752037   \n",
       "std        0.408181           0.202228      1.113565      8.155627   \n",
       "min        0.000000           0.000000      1.000000      0.000000   \n",
       "25%        1.000000           0.000000      2.000000      0.000000   \n",
       "50%        1.000000           0.000000      3.000000      0.000000   \n",
       "75%        1.000000           0.000000      4.000000      2.000000   \n",
       "max        1.000000           1.000000      5.000000     30.000000   \n",
       "\n",
       "           PhysHlth      DiffWalk      Diabetes  Hypertension        Stroke  \n",
       "count  70692.000000  70692.000000  70692.000000  70692.000000  70692.000000  \n",
       "mean       5.810417      0.252730      0.500000      0.563458      0.062171  \n",
       "std       10.062261      0.434581      0.500004      0.495960      0.241468  \n",
       "min        0.000000      0.000000      0.000000      0.000000      0.000000  \n",
       "25%        0.000000      0.000000      0.000000      0.000000      0.000000  \n",
       "50%        0.000000      0.000000      0.500000      1.000000      0.000000  \n",
       "75%        6.000000      1.000000      1.000000      1.000000      0.000000  \n",
       "max       30.000000      1.000000      1.000000      1.000000      1.000000  "
      ]
     },
     "execution_count": 101,
     "metadata": {},
     "output_type": "execute_result"
    }
   ],
   "source": [
    "da.describe()"
   ]
  },
  {
   "cell_type": "markdown",
   "metadata": {},
   "source": [
    "We will then clean our data. First by finding incomplete data, then by finding duplicate data."
   ]
  },
  {
   "cell_type": "code",
   "execution_count": 102,
   "metadata": {},
   "outputs": [
    {
     "data": {
      "text/plain": [
       "Age                     0\n",
       "Sex                     0\n",
       "HighChol                0\n",
       "CholCheck               0\n",
       "BMI                     0\n",
       "Smoker                  0\n",
       "HeartDiseaseorAttack    0\n",
       "PhysActivity            0\n",
       "Fruits                  0\n",
       "Veggies                 0\n",
       "HvyAlcoholConsump       0\n",
       "GenHlth                 0\n",
       "MentHlth                0\n",
       "PhysHlth                0\n",
       "DiffWalk                0\n",
       "Diabetes                0\n",
       "Hypertension            0\n",
       "Stroke                  0\n",
       "dtype: int64"
      ]
     },
     "execution_count": 102,
     "metadata": {},
     "output_type": "execute_result"
    }
   ],
   "source": [
    "da.isnull().sum()"
   ]
  },
  {
   "cell_type": "code",
   "execution_count": 103,
   "metadata": {},
   "outputs": [
    {
     "data": {
      "text/plain": [
       "6672"
      ]
     },
     "execution_count": 103,
     "metadata": {},
     "output_type": "execute_result"
    }
   ],
   "source": [
    "da.duplicated().sum()"
   ]
  },
  {
   "cell_type": "markdown",
   "metadata": {},
   "source": [
    "As we can see, there are no incomplete data in our dataset. In addition, we also see that we have 6672 duplicated rows. Although this is the case, without identification, we are not able to determine whether these rows are the same people or different people. So we will just leave the \"duplicated\" rows in our dataset and go on with our analysis with them.\n",
    "\n",
    "Before we start our analysis, we need to make some assumptions about our data. The assumptions we are making is:\n",
    " * Data was collected through simple random sampling. Although this is unlikely to be the case, I am current unsure how to conduct statistics with complex samplings.\n",
    " * Population responses are approximately normal. In our case, the size of our data is 70692, so it is assumed it is normal\n",
    "\n",
    "Now we can begin our analysis."
   ]
  },
  {
   "cell_type": "markdown",
   "metadata": {},
   "source": [
    "### AGE\n",
    "\n",
    "Some questions we will try to answer are:\n",
    " * Does age play a role as a risk factor in developing Diabetes, Hypertension, or Stroke?\n",
    " * Is there a significant difference between the population proportion of people having one of those health problems at their age group? \n"
   ]
  },
  {
   "cell_type": "code",
   "execution_count": 104,
   "metadata": {},
   "outputs": [
    {
     "data": {
      "text/plain": [
       "<AxesSubplot: xlabel='Age', ylabel='Count'>"
      ]
     },
     "execution_count": 104,
     "metadata": {},
     "output_type": "execute_result"
    },
    {
     "data": {
      "image/png": "[encoded data removed]",
      "text/plain": [
       "<Figure size 640x480 with 1 Axes>"
      ]
     },
     "metadata": {},
     "output_type": "display_data"
    }
   ],
   "source": [
    "sns.histplot(x = 'Age', data = da)"
   ]
  },
  {
   "cell_type": "code",
   "execution_count": 105,
   "metadata": {},
   "outputs": [],
   "source": [
    "da['Diabetes'] = da['Diabetes'].replace([0, 1], ['No', 'Yes'])\n",
    "da['Hypertension'] = da['Hypertension'].replace([0, 1], ['No', 'Yes'])\n",
    "da['Stroke'] = da['Stroke'].replace([0, 1], ['No', 'Yes'])"
   ]
  },
  {
   "cell_type": "code",
   "execution_count": 106,
   "metadata": {},
   "outputs": [],
   "source": [
    "sns.histplot(x = 'Age', hue='Diabetes', multiple=\"dodge\", data = da).set(title='Diabetics by Age')\n",
    "plt.savefig('AgeDiabetes.jpg')\n",
    "plt.close()\n",
    "\n"
   ]
  },
  {
   "cell_type": "code",
   "execution_count": 107,
   "metadata": {},
   "outputs": [],
   "source": [
    "sns.histplot(x = 'Age', hue='Hypertension', hue_order = ['No', 'Yes'], multiple=\"dodge\", data = da).set(title='Hypertension by Age')\n",
    "plt.savefig('AgeHypertension.jpg')\n",
    "plt.close()\n"
   ]
  },
  {
   "cell_type": "code",
   "execution_count": 108,
   "metadata": {},
   "outputs": [],
   "source": [
    "sns.histplot(x = 'Age', hue='Stroke', multiple=\"dodge\", data = da).set(title='Stroke by Age')\n",
    "plt.savefig('AgeStrokes.jpg')\n",
    "plt.close()\n"
   ]
  },
  {
   "cell_type": "code",
   "execution_count": 109,
   "metadata": {},
   "outputs": [],
   "source": [
    "#Finding the Proportions.\n",
    "diabetes = pd.crosstab(index=da['Age'], columns=da['Diabetes'], margins=True)\n",
    "diabetes['Proportion in %'] = diabetes['Yes']/diabetes['All'] * 100\n",
    "diabetes.reset_index(inplace=True)\n",
    "\n",
    "\n",
    "ax = sns.barplot(data=diabetes, x= 'Age', y='Proportion in %', errwidth=0)\n",
    "ax.bar_label(ax.containers[0], fmt='%.f%%')\n",
    "plt.title(\"Proportion of Diabetics in that Age Group\")\n",
    "plt.savefig('AgeDiabeticProps.jpg')\n",
    "plt.close()\n"
   ]
  },
  {
   "cell_type": "code",
   "execution_count": 110,
   "metadata": {},
   "outputs": [],
   "source": [
    "hypertension = pd.crosstab(index=da['Age'], columns=da['Hypertension'], margins=True)\n",
    "hypertension['Proportion in %'] = hypertension['Yes']/hypertension['All'] * 100\n",
    "hypertension.reset_index(inplace=True)\n",
    "\n",
    "ax = sns.barplot(data=hypertension, x= 'Age', y='Proportion in %', errwidth=0)\n",
    "ax.bar_label(ax.containers[0], fmt='%.f%%')\n",
    "plt.title(\"Proportion of Hypertension in that Age Group\")\n",
    "plt.savefig('AgeHyperProps.jpg')\n",
    "plt.close()"
   ]
  },
  {
   "cell_type": "code",
   "execution_count": 111,
   "metadata": {},
   "outputs": [],
   "source": [
    "stroke = pd.crosstab(index=da['Age'], columns=da['Stroke'], margins=True)\n",
    "stroke['Proportion in %'] = stroke['Yes']/stroke['All'] * 100\n",
    "stroke.reset_index(inplace=True)\n",
    "\n",
    "ax = sns.barplot(data=stroke, x= 'Age', y='Proportion in %', errwidth=0)\n",
    "ax.bar_label(ax.containers[0], fmt='%.f%%')\n",
    "plt.title(\"Proportion of Stroke in that Age Group\")\n",
    "plt.savefig('AgeStrokeProps.jpg')\n",
    "plt.close()"
   ]
  },
  {
   "cell_type": "markdown",
   "metadata": {},
   "source": [
    "![](AgeDiabetes.jpg)  ![](AgeHypertension.jpg) ![](AgeStrokes.jpg)\n",
    " \n"
   ]
  },
  {
   "attachments": {},
   "cell_type": "markdown",
   "metadata": {},
   "source": [
    "## Proportions\n",
    "![](AgeDiabeticProps.jpg)  ![](AgeHyperProps.jpg)  ![](AgeStrokeProps.jpg)"
   ]
  },
  {
   "cell_type": "markdown",
   "metadata": {},
   "source": [
    "As we can see, as the people get older, both diabetes, hypertension, stroke increases in the age group. Both diabetes and hypertension are extremely similar when it comes to the proportion in the population in each age group. Stroke on the other hand, is much less common being at most 12% at age group 13 but the amount does increase with age albeit not as much when compared to diabetes and hypertension.\n",
    "\n",
    "This tells us that Age might be a good predictor if a person would have diabetes, Hypertension, or Stroke. We will be using this as a input variable when we use machine learning to trying to predict if a person would have diabetes, hypertension, or a stroke."
   ]
  },
  {
   "cell_type": "markdown",
   "metadata": {},
   "source": [
    "## Sex\n",
    "\n",
    "Some questions will we try to answer is:\n",
    " * Are there any differences between Male and Female having any of the health conditions?\n",
    " * Is there a statistical significance between the differences?\n",
    "\n",
    "For all statistical analysis, our null hypothesis would be that there is no significant difference between the genders and having a certain disease."
   ]
  },
  {
   "cell_type": "code",
   "execution_count": 112,
   "metadata": {},
   "outputs": [
    {
     "data": {
      "text/html": [
       "<div>\n",
       "<style scoped>\n",
       "    .dataframe tbody tr th:only-of-type {\n",
       "        vertical-align: middle;\n",
       "    }\n",
       "\n",
       "    .dataframe tbody tr th {\n",
       "        vertical-align: top;\n",
       "    }\n",
       "\n",
       "    .dataframe thead th {\n",
       "        text-align: right;\n",
       "    }\n",
       "</style>\n",
       "<table border=\"1\" class=\"dataframe\">\n",
       "  <thead>\n",
       "    <tr style=\"text-align: right;\">\n",
       "      <th>Diabetes</th>\n",
       "      <th>Sex</th>\n",
       "      <th>No</th>\n",
       "      <th>Yes</th>\n",
       "      <th>All</th>\n",
       "      <th>Yes-Proportion</th>\n",
       "      <th>No-Proportion</th>\n",
       "    </tr>\n",
       "  </thead>\n",
       "  <tbody>\n",
       "    <tr>\n",
       "      <th>0</th>\n",
       "      <td>Female</td>\n",
       "      <td>19975</td>\n",
       "      <td>18411</td>\n",
       "      <td>38386</td>\n",
       "      <td>47.962799</td>\n",
       "      <td>52.037201</td>\n",
       "    </tr>\n",
       "    <tr>\n",
       "      <th>1</th>\n",
       "      <td>Male</td>\n",
       "      <td>15371</td>\n",
       "      <td>16935</td>\n",
       "      <td>32306</td>\n",
       "      <td>52.420603</td>\n",
       "      <td>47.579397</td>\n",
       "    </tr>\n",
       "  </tbody>\n",
       "</table>\n",
       "</div>"
      ],
      "text/plain": [
       "Diabetes     Sex     No    Yes    All  Yes-Proportion  No-Proportion\n",
       "0         Female  19975  18411  38386       47.962799      52.037201\n",
       "1           Male  15371  16935  32306       52.420603      47.579397"
      ]
     },
     "execution_count": 112,
     "metadata": {},
     "output_type": "execute_result"
    }
   ],
   "source": [
    "da['Sex'] = da['Sex'].replace([0,1], ['Female','Male'])\n",
    "\n",
    "crosstabs = pd.crosstab(index=da['Sex'], columns = da['Diabetes'], margins=True)\n",
    "crosstabs['Yes-Proportion'] = crosstabs['Yes']/ crosstabs['All'] * 100\n",
    "crosstabs['No-Proportion'] = crosstabs['No']/ crosstabs['All'] * 100\n",
    "crosstabs = crosstabs.drop('All')\n",
    "crosstabs.reset_index(inplace=True)\n",
    "crosstabs"
   ]
  },
  {
   "cell_type": "code",
   "execution_count": 113,
   "metadata": {},
   "outputs": [],
   "source": [
    "daprop = sns.barplot(x='Sex', y= 'Yes-Proportion', data=crosstabs)\n",
    "daprop.bar_label(daprop.containers[0], fmt='%.f%%')\n",
    "plt.title(\"Proportion of Diabetes based on Gender\")\n",
    "plt.savefig('DaGenderProps.jpg')\n",
    "plt.close()"
   ]
  },
  {
   "attachments": {},
   "cell_type": "markdown",
   "metadata": {},
   "source": [
    "![](DaGenderProps.jpg)"
   ]
  },
  {
   "cell_type": "code",
   "execution_count": 114,
   "metadata": {},
   "outputs": [
    {
     "data": {
      "text/plain": [
       "(-11.819972389178922, 3.3007777865381036e-32, 70690.0)"
      ]
     },
     "execution_count": 114,
     "metadata": {},
     "output_type": "execute_result"
    }
   ],
   "source": [
    "dafemale = da.loc[da['Sex'] == 'Female', \"Diabetes\"].replace({\"Yes\": 1, \"No\": 0})\n",
    "daMale = da.loc[da['Sex'] == 'Male', \"Diabetes\"].replace({\"Yes\": 1, \"No\": 0})\n",
    "\n",
    "sm.stats.ttest_ind(dafemale, daMale)"
   ]
  },
  {
   "attachments": {},
   "cell_type": "markdown",
   "metadata": {},
   "source": [
    "We get a test statistic of -11.82 and a P value of basically 0 for diabetics. This allows us to reject our null hypothesis, telling us there is a significant difference between the genders and having diabetes."
   ]
  },
  {
   "cell_type": "code",
   "execution_count": 115,
   "metadata": {},
   "outputs": [
    {
     "data": {
      "text/html": [
       "<div>\n",
       "<style scoped>\n",
       "    .dataframe tbody tr th:only-of-type {\n",
       "        vertical-align: middle;\n",
       "    }\n",
       "\n",
       "    .dataframe tbody tr th {\n",
       "        vertical-align: top;\n",
       "    }\n",
       "\n",
       "    .dataframe thead th {\n",
       "        text-align: right;\n",
       "    }\n",
       "</style>\n",
       "<table border=\"1\" class=\"dataframe\">\n",
       "  <thead>\n",
       "    <tr style=\"text-align: right;\">\n",
       "      <th>Hypertension</th>\n",
       "      <th>Sex</th>\n",
       "      <th>No</th>\n",
       "      <th>Yes</th>\n",
       "      <th>All</th>\n",
       "      <th>Yes-Proportion</th>\n",
       "      <th>No-Proportion</th>\n",
       "    </tr>\n",
       "  </thead>\n",
       "  <tbody>\n",
       "    <tr>\n",
       "      <th>0</th>\n",
       "      <td>Female</td>\n",
       "      <td>17470</td>\n",
       "      <td>20916</td>\n",
       "      <td>38386</td>\n",
       "      <td>54.488616</td>\n",
       "      <td>45.511384</td>\n",
       "    </tr>\n",
       "    <tr>\n",
       "      <th>1</th>\n",
       "      <td>Male</td>\n",
       "      <td>13390</td>\n",
       "      <td>18916</td>\n",
       "      <td>32306</td>\n",
       "      <td>58.552591</td>\n",
       "      <td>41.447409</td>\n",
       "    </tr>\n",
       "  </tbody>\n",
       "</table>\n",
       "</div>"
      ],
      "text/plain": [
       "Hypertension     Sex     No    Yes    All  Yes-Proportion  No-Proportion\n",
       "0             Female  17470  20916  38386       54.488616      45.511384\n",
       "1               Male  13390  18916  32306       58.552591      41.447409"
      ]
     },
     "execution_count": 115,
     "metadata": {},
     "output_type": "execute_result"
    }
   ],
   "source": [
    "crosstabs = pd.crosstab(index=da['Sex'], columns = da['Hypertension'], margins=True)\n",
    "crosstabs['Yes-Proportion'] = crosstabs['Yes']/ crosstabs['All'] * 100\n",
    "crosstabs['No-Proportion'] = crosstabs['No']/ crosstabs['All'] * 100\n",
    "crosstabs = crosstabs.drop('All')\n",
    "crosstabs.reset_index(inplace=True)\n",
    "crosstabs"
   ]
  },
  {
   "cell_type": "code",
   "execution_count": 116,
   "metadata": {},
   "outputs": [],
   "source": [
    "hyprop = sns.barplot(x='Sex', y= 'Yes-Proportion', data=crosstabs)\n",
    "hyprop.bar_label(hyprop.containers[0], fmt='%.f%%')\n",
    "plt.title(\"Proportion of Hypertension based on Gender\")\n",
    "plt.savefig('HyGenderProps.jpg')\n",
    "plt.close()"
   ]
  },
  {
   "attachments": {},
   "cell_type": "markdown",
   "metadata": {},
   "source": [
    "![](HyGenderProps.jpg)"
   ]
  },
  {
   "cell_type": "code",
   "execution_count": 117,
   "metadata": {},
   "outputs": [
    {
     "data": {
      "text/plain": [
       "(-10.861909054161348, 1.8402651416495403e-27, 70690.0)"
      ]
     },
     "execution_count": 117,
     "metadata": {},
     "output_type": "execute_result"
    }
   ],
   "source": [
    "dafemale = da.loc[da['Sex'] == 'Female', \"Hypertension\"].replace({\"Yes\": 1, \"No\": 0})\n",
    "daMale = da.loc[da['Sex'] == 'Male', \"Hypertension\"].replace({\"Yes\": 1, \"No\": 0})\n",
    "\n",
    "sm.stats.ttest_ind(dafemale, daMale)"
   ]
  },
  {
   "attachments": {},
   "cell_type": "markdown",
   "metadata": {},
   "source": [
    "We get a test statistic of -10.86 and a P value of basically 0. This allows us to reject our null hypothesis, telling us there is significant difference between the genders and having hypertension."
   ]
  },
  {
   "cell_type": "code",
   "execution_count": 118,
   "metadata": {},
   "outputs": [
    {
     "data": {
      "text/html": [
       "<div>\n",
       "<style scoped>\n",
       "    .dataframe tbody tr th:only-of-type {\n",
       "        vertical-align: middle;\n",
       "    }\n",
       "\n",
       "    .dataframe tbody tr th {\n",
       "        vertical-align: top;\n",
       "    }\n",
       "\n",
       "    .dataframe thead th {\n",
       "        text-align: right;\n",
       "    }\n",
       "</style>\n",
       "<table border=\"1\" class=\"dataframe\">\n",
       "  <thead>\n",
       "    <tr style=\"text-align: right;\">\n",
       "      <th>Stroke</th>\n",
       "      <th>Sex</th>\n",
       "      <th>No</th>\n",
       "      <th>Yes</th>\n",
       "      <th>All</th>\n",
       "      <th>Yes-Proportion</th>\n",
       "      <th>No-Proportion</th>\n",
       "    </tr>\n",
       "  </thead>\n",
       "  <tbody>\n",
       "    <tr>\n",
       "      <th>0</th>\n",
       "      <td>Female</td>\n",
       "      <td>36032</td>\n",
       "      <td>2354</td>\n",
       "      <td>38386</td>\n",
       "      <td>6.132444</td>\n",
       "      <td>93.867556</td>\n",
       "    </tr>\n",
       "    <tr>\n",
       "      <th>1</th>\n",
       "      <td>Male</td>\n",
       "      <td>30265</td>\n",
       "      <td>2041</td>\n",
       "      <td>32306</td>\n",
       "      <td>6.317712</td>\n",
       "      <td>93.682288</td>\n",
       "    </tr>\n",
       "  </tbody>\n",
       "</table>\n",
       "</div>"
      ],
      "text/plain": [
       "Stroke     Sex     No   Yes    All  Yes-Proportion  No-Proportion\n",
       "0       Female  36032  2354  38386        6.132444      93.867556\n",
       "1         Male  30265  2041  32306        6.317712      93.682288"
      ]
     },
     "execution_count": 118,
     "metadata": {},
     "output_type": "execute_result"
    }
   ],
   "source": [
    "crosstabs = pd.crosstab(index=da['Sex'], columns = da['Stroke'], margins=True)\n",
    "crosstabs['Yes-Proportion'] = crosstabs['Yes']/ crosstabs['All'] * 100\n",
    "crosstabs['No-Proportion'] = crosstabs['No']/ crosstabs['All'] * 100\n",
    "crosstabs = crosstabs.drop('All')\n",
    "crosstabs.reset_index(inplace=True)\n",
    "crosstabs"
   ]
  },
  {
   "cell_type": "code",
   "execution_count": 119,
   "metadata": {},
   "outputs": [],
   "source": [
    "Strokeprop = sns.barplot(x='Sex', y= 'Yes-Proportion', data=crosstabs)\n",
    "Strokeprop.bar_label(Strokeprop.containers[0], fmt='%.2f%%')\n",
    "plt.title(\"Proportion of Stroke based on Gender\")\n",
    "plt.savefig('StrokeGenderProps.jpg')\n",
    "plt.close()"
   ]
  },
  {
   "attachments": {},
   "cell_type": "markdown",
   "metadata": {},
   "source": [
    "![](StrokeGenderProps.jpg)"
   ]
  },
  {
   "cell_type": "code",
   "execution_count": 120,
   "metadata": {},
   "outputs": [
    {
     "data": {
      "text/plain": [
       "(-1.0162104563117815, 0.3095326561695111, 70690.0)"
      ]
     },
     "execution_count": 120,
     "metadata": {},
     "output_type": "execute_result"
    }
   ],
   "source": [
    "dafemale = da.loc[da['Sex'] == 'Female', \"Stroke\"].replace({\"Yes\": 1, \"No\": 0})\n",
    "daMale = da.loc[da['Sex'] == 'Male', \"Stroke\"].replace({\"Yes\": 1, \"No\": 0})\n",
    "\n",
    "sm.stats.ttest_ind(dafemale, daMale)"
   ]
  },
  {
   "cell_type": "markdown",
   "metadata": {},
   "source": [
    "We get a test statistic of -1.01 and a P value of 0.31. This means that we fail to reject our null hypothesis. We conclude that there is no significant difference between the gender of the person and if they had strokes."
   ]
  },
  {
   "cell_type": "markdown",
   "metadata": {},
   "source": [
    "To summarize our finding, we see that there is sufficient evidence to conclude that there is a significant difference between gender of the person and whether they have diabetes and/or hypertension. We also see that there is there is no significant difference between the gender of the person and if they had a stroke or not."
   ]
  },
  {
   "cell_type": "markdown",
   "metadata": {},
   "source": [
    "## High Cholestrol"
   ]
  },
  {
   "cell_type": "markdown",
   "metadata": {},
   "source": [
    "What is the relationship between High Cholestrol and Disease states?\n",
    "Do people with diabetes, Hypertension, or stroke also have High Cholestrol? "
   ]
  },
  {
   "cell_type": "code",
   "execution_count": 121,
   "metadata": {},
   "outputs": [
    {
     "data": {
      "text/html": [
       "<div>\n",
       "<style scoped>\n",
       "    .dataframe tbody tr th:only-of-type {\n",
       "        vertical-align: middle;\n",
       "    }\n",
       "\n",
       "    .dataframe tbody tr th {\n",
       "        vertical-align: top;\n",
       "    }\n",
       "\n",
       "    .dataframe thead th {\n",
       "        text-align: right;\n",
       "    }\n",
       "</style>\n",
       "<table border=\"1\" class=\"dataframe\">\n",
       "  <thead>\n",
       "    <tr style=\"text-align: right;\">\n",
       "      <th>Diabetes</th>\n",
       "      <th>HighChol</th>\n",
       "      <th>No</th>\n",
       "      <th>Yes</th>\n",
       "      <th>All</th>\n",
       "      <th>Yes-Proportion</th>\n",
       "    </tr>\n",
       "  </thead>\n",
       "  <tbody>\n",
       "    <tr>\n",
       "      <th>0</th>\n",
       "      <td>No</td>\n",
       "      <td>21869</td>\n",
       "      <td>11660</td>\n",
       "      <td>33529</td>\n",
       "      <td>34.775866</td>\n",
       "    </tr>\n",
       "    <tr>\n",
       "      <th>1</th>\n",
       "      <td>Yes</td>\n",
       "      <td>13477</td>\n",
       "      <td>23686</td>\n",
       "      <td>37163</td>\n",
       "      <td>63.735436</td>\n",
       "    </tr>\n",
       "  </tbody>\n",
       "</table>\n",
       "</div>"
      ],
      "text/plain": [
       "Diabetes HighChol     No    Yes    All  Yes-Proportion\n",
       "0              No  21869  11660  33529       34.775866\n",
       "1             Yes  13477  23686  37163       63.735436"
      ]
     },
     "execution_count": 121,
     "metadata": {},
     "output_type": "execute_result"
    }
   ],
   "source": [
    "da['HighChol'] = da['HighChol'].replace([0,1], [\"No\", \"Yes\"])\n",
    "\n",
    "crosstabs = pd.crosstab(index=da['HighChol'], columns = da['Diabetes'], margins=True)\n",
    "crosstabs['Yes-Proportion'] = crosstabs['Yes']/ crosstabs['All'] * 100\n",
    "crosstabs = crosstabs.drop('All')\n",
    "crosstabs.reset_index(inplace=True)\n",
    "crosstabs"
   ]
  },
  {
   "cell_type": "code",
   "execution_count": 122,
   "metadata": {},
   "outputs": [],
   "source": [
    "HCDprop = sns.barplot(x='HighChol', y= 'Yes-Proportion', data=crosstabs)\n",
    "HCDprop.bar_label(HCDprop.containers[0], fmt='%.2f%%')\n",
    "plt.title(\"Proportion of diabetes based on High Cholestrol\")\n",
    "plt.savefig('HCDProps.jpg')\n",
    "plt.close()"
   ]
  },
  {
   "attachments": {},
   "cell_type": "markdown",
   "metadata": {},
   "source": [
    "![](HCDProps.jpg)"
   ]
  },
  {
   "cell_type": "code",
   "execution_count": 123,
   "metadata": {},
   "outputs": [
    {
     "data": {
      "text/plain": [
       "(80.32752925525735, 0.0, 70690.0)"
      ]
     },
     "execution_count": 123,
     "metadata": {},
     "output_type": "execute_result"
    }
   ],
   "source": [
    "HCY = da.loc[da['HighChol'] == 'Yes', \"Diabetes\"].replace({\"Yes\": 1, \"No\": 0})\n",
    "HCN = da.loc[da['HighChol'] == 'No',\"Diabetes\"].replace({\"Yes\": 1, \"No\": 0})\n",
    "\n",
    "sm.stats.ttest_ind(HCY, HCN)"
   ]
  },
  {
   "attachments": {},
   "cell_type": "markdown",
   "metadata": {},
   "source": [
    "With a p value of 0, we can say that there is a significant evidence between having high cholestrol and diabetes."
   ]
  },
  {
   "cell_type": "code",
   "execution_count": 124,
   "metadata": {},
   "outputs": [
    {
     "data": {
      "text/html": [
       "<div>\n",
       "<style scoped>\n",
       "    .dataframe tbody tr th:only-of-type {\n",
       "        vertical-align: middle;\n",
       "    }\n",
       "\n",
       "    .dataframe tbody tr th {\n",
       "        vertical-align: top;\n",
       "    }\n",
       "\n",
       "    .dataframe thead th {\n",
       "        text-align: right;\n",
       "    }\n",
       "</style>\n",
       "<table border=\"1\" class=\"dataframe\">\n",
       "  <thead>\n",
       "    <tr style=\"text-align: right;\">\n",
       "      <th>Hypertension</th>\n",
       "      <th>HighChol</th>\n",
       "      <th>No</th>\n",
       "      <th>Yes</th>\n",
       "      <th>All</th>\n",
       "      <th>Yes-Proportion</th>\n",
       "    </tr>\n",
       "  </thead>\n",
       "  <tbody>\n",
       "    <tr>\n",
       "      <th>0</th>\n",
       "      <td>No</td>\n",
       "      <td>20178</td>\n",
       "      <td>13351</td>\n",
       "      <td>33529</td>\n",
       "      <td>39.819261</td>\n",
       "    </tr>\n",
       "    <tr>\n",
       "      <th>1</th>\n",
       "      <td>Yes</td>\n",
       "      <td>10682</td>\n",
       "      <td>26481</td>\n",
       "      <td>37163</td>\n",
       "      <td>71.256357</td>\n",
       "    </tr>\n",
       "  </tbody>\n",
       "</table>\n",
       "</div>"
      ],
      "text/plain": [
       "Hypertension HighChol     No    Yes    All  Yes-Proportion\n",
       "0                  No  20178  13351  33529       39.819261\n",
       "1                 Yes  10682  26481  37163       71.256357"
      ]
     },
     "execution_count": 124,
     "metadata": {},
     "output_type": "execute_result"
    }
   ],
   "source": [
    "crosstabs = pd.crosstab(index=da['HighChol'], columns = da['Hypertension'], margins=True)\n",
    "crosstabs['Yes-Proportion'] = crosstabs['Yes']/ crosstabs['All'] * 100\n",
    "crosstabs = crosstabs.drop('All')\n",
    "crosstabs.reset_index(inplace=True)\n",
    "crosstabs"
   ]
  },
  {
   "cell_type": "code",
   "execution_count": 125,
   "metadata": {},
   "outputs": [],
   "source": [
    "HCHprop = sns.barplot(x='HighChol', y= 'Yes-Proportion', data=crosstabs)\n",
    "HCHprop.bar_label(HCHprop.containers[0], fmt='%.2f%%')\n",
    "plt.title(\"Proportion of hypertension based on High Cholestrol\")\n",
    "plt.savefig('HCHProps.jpg')\n",
    "plt.close()"
   ]
  },
  {
   "attachments": {},
   "cell_type": "markdown",
   "metadata": {},
   "source": [
    "![](HCHProps.jpg)"
   ]
  },
  {
   "cell_type": "code",
   "execution_count": 126,
   "metadata": {},
   "outputs": [
    {
     "data": {
      "text/plain": [
       "(88.71471415118116, 0.0, 70690.0)"
      ]
     },
     "execution_count": 126,
     "metadata": {},
     "output_type": "execute_result"
    }
   ],
   "source": [
    "HCY = da.loc[da['HighChol'] == 'Yes', \"Hypertension\"].replace({\"Yes\": 1, \"No\": 0})\n",
    "HCN = da.loc[da['HighChol'] == 'No', \"Hypertension\"].replace({\"Yes\": 1, \"No\": 0})\n",
    "\n",
    "sm.stats.ttest_ind(HCY, HCN)"
   ]
  },
  {
   "attachments": {},
   "cell_type": "markdown",
   "metadata": {},
   "source": [
    "With a p value of 0, we can say that there is a significant evidence between having high cholestrol and hypertension."
   ]
  },
  {
   "cell_type": "code",
   "execution_count": 127,
   "metadata": {},
   "outputs": [
    {
     "data": {
      "text/html": [
       "<div>\n",
       "<style scoped>\n",
       "    .dataframe tbody tr th:only-of-type {\n",
       "        vertical-align: middle;\n",
       "    }\n",
       "\n",
       "    .dataframe tbody tr th {\n",
       "        vertical-align: top;\n",
       "    }\n",
       "\n",
       "    .dataframe thead th {\n",
       "        text-align: right;\n",
       "    }\n",
       "</style>\n",
       "<table border=\"1\" class=\"dataframe\">\n",
       "  <thead>\n",
       "    <tr style=\"text-align: right;\">\n",
       "      <th>Stroke</th>\n",
       "      <th>HighChol</th>\n",
       "      <th>No</th>\n",
       "      <th>Yes</th>\n",
       "      <th>All</th>\n",
       "      <th>Yes-Proportion</th>\n",
       "    </tr>\n",
       "  </thead>\n",
       "  <tbody>\n",
       "    <tr>\n",
       "      <th>0</th>\n",
       "      <td>No</td>\n",
       "      <td>32295</td>\n",
       "      <td>1234</td>\n",
       "      <td>33529</td>\n",
       "      <td>3.680396</td>\n",
       "    </tr>\n",
       "    <tr>\n",
       "      <th>1</th>\n",
       "      <td>Yes</td>\n",
       "      <td>34002</td>\n",
       "      <td>3161</td>\n",
       "      <td>37163</td>\n",
       "      <td>8.505772</td>\n",
       "    </tr>\n",
       "  </tbody>\n",
       "</table>\n",
       "</div>"
      ],
      "text/plain": [
       "Stroke HighChol     No   Yes    All  Yes-Proportion\n",
       "0            No  32295  1234  33529        3.680396\n",
       "1           Yes  34002  3161  37163        8.505772"
      ]
     },
     "execution_count": 127,
     "metadata": {},
     "output_type": "execute_result"
    }
   ],
   "source": [
    "crosstabs = pd.crosstab(index=da['HighChol'], columns = da['Stroke'], margins=True)\n",
    "crosstabs['Yes-Proportion'] = crosstabs['Yes']/ crosstabs['All'] * 100\n",
    "crosstabs = crosstabs.drop('All')\n",
    "crosstabs.reset_index(inplace=True)\n",
    "crosstabs"
   ]
  },
  {
   "cell_type": "code",
   "execution_count": 128,
   "metadata": {},
   "outputs": [],
   "source": [
    "HCSprop = sns.barplot(x='HighChol', y= 'Yes-Proportion', data=crosstabs)\n",
    "HCSprop.bar_label(HCSprop.containers[0], fmt='%.2f%%')\n",
    "plt.title(\"Proportion of strokes based on High Cholestrol\")\n",
    "plt.savefig('HCSprop.jpg')\n",
    "plt.close()"
   ]
  },
  {
   "attachments": {},
   "cell_type": "markdown",
   "metadata": {},
   "source": [
    "![](HCSprop.jpg)"
   ]
  },
  {
   "cell_type": "code",
   "execution_count": 129,
   "metadata": {},
   "outputs": [
    {
     "data": {
      "text/plain": [
       "(26.663826258835183, 7.342421695047231e-156, 70690.0)"
      ]
     },
     "execution_count": 129,
     "metadata": {},
     "output_type": "execute_result"
    }
   ],
   "source": [
    "HCY = da.loc[da['HighChol'] == 'Yes', \"Stroke\"].replace({\"Yes\": 1, \"No\": 0})\n",
    "HCN = da.loc[da['HighChol'] == 'No', \"Stroke\"].replace({\"Yes\": 1, \"No\": 0})\n",
    "\n",
    "sm.stats.ttest_ind(HCY, HCN)"
   ]
  },
  {
   "attachments": {},
   "cell_type": "markdown",
   "metadata": {},
   "source": [
    "With a p value of 0, we can say that there is a significant evidence between having high cholestrol and stroke."
   ]
  },
  {
   "attachments": {},
   "cell_type": "markdown",
   "metadata": {},
   "source": [
    "As we can see, people with diabetes and hypertension tends to have a higher proportion of high cholestrol. 64% of people that have diabetes also has high cholestrol and 71% of people that have hypertension also has high cholestrol. Stroke also has a increased proportion of high cholestrol, but this is not as much as the other two disease. 8.5% of people that had a stroke also had high cholestrol. When we do statistical testing we see that with a significance level of 5%, the p values are all 0. This indicates that there is a significant difference between high cholestrol and the 3 diseases."
   ]
  },
  {
   "cell_type": "markdown",
   "metadata": {},
   "source": [
    "## BMI"
   ]
  },
  {
   "cell_type": "markdown",
   "metadata": {},
   "source": [
    "Weight of the person can cause health issues as well. In this analysis, we will try to answer the following questions:\n",
    " * What is the average weight of people with no diabetes, hypertension, or strokes, and the average weight of people with the disease? (Average weight of diabetics, Hypertensive, and people with stroke.)\n",
    " * Is there a statistical difference between the weights of people with no disease verus the people with the disease?"
   ]
  },
  {
   "cell_type": "code",
   "execution_count": 130,
   "metadata": {},
   "outputs": [
    {
     "data": {
      "text/plain": [
       "29.856985231709388"
      ]
     },
     "execution_count": 130,
     "metadata": {},
     "output_type": "execute_result"
    }
   ],
   "source": [
    "meanBMI = da['BMI'].mean()\n",
    "meanBMI"
   ]
  },
  {
   "cell_type": "markdown",
   "metadata": {},
   "source": [
    "The mean BMI is 29.86 of all the people in the dataset."
   ]
  },
  {
   "cell_type": "code",
   "execution_count": 131,
   "metadata": {},
   "outputs": [
    {
     "data": {
      "text/plain": [
       "26.915797693968486"
      ]
     },
     "execution_count": 131,
     "metadata": {},
     "output_type": "execute_result"
    }
   ],
   "source": [
    "da['Diabetes'] = da['Diabetes'].replace(['No','Yes'], [0, 1])\n",
    "da['Hypertension'] = da['Hypertension'].replace(['No','Yes'], [0, 1])\n",
    "da['Stroke'] = da['Stroke'].replace(['No','Yes'], [0, 1])\n",
    "NoDiseaseBMI = da.loc[(da['Diabetes'] == 0) & (da['Hypertension'] == 0) & (da['Stroke'] == 0) , \"BMI\"]\n",
    "NoDiseaseBMI.mean()"
   ]
  },
  {
   "cell_type": "code",
   "execution_count": 132,
   "metadata": {},
   "outputs": [
    {
     "data": {
      "text/plain": [
       "31.94401063769592"
      ]
     },
     "execution_count": 132,
     "metadata": {},
     "output_type": "execute_result"
    }
   ],
   "source": [
    "DiabetesBMI = da.loc[(da['Diabetes'] == 1) , \"BMI\"]\n",
    "DiabetesBMI.mean()"
   ]
  },
  {
   "cell_type": "code",
   "execution_count": 133,
   "metadata": {},
   "outputs": [
    {
     "data": {
      "text/plain": [
       "31.366162884113276"
      ]
     },
     "execution_count": 133,
     "metadata": {},
     "output_type": "execute_result"
    }
   ],
   "source": [
    "HypertensionBMI = da.loc[(da['Hypertension'] == 1) , \"BMI\"]\n",
    "HypertensionBMI.mean()"
   ]
  },
  {
   "cell_type": "code",
   "execution_count": 134,
   "metadata": {},
   "outputs": [
    {
     "data": {
      "text/plain": [
       "30.4905574516496"
      ]
     },
     "execution_count": 134,
     "metadata": {},
     "output_type": "execute_result"
    }
   ],
   "source": [
    "StrokeBMI = da.loc[(da['Stroke'] == 1) , \"BMI\"]\n",
    "StrokeBMI.mean()"
   ]
  },
  {
   "cell_type": "code",
   "execution_count": 135,
   "metadata": {},
   "outputs": [
    {
     "data": {
      "text/plain": [
       "31.165709380046195"
      ]
     },
     "execution_count": 135,
     "metadata": {},
     "output_type": "execute_result"
    }
   ],
   "source": [
    "AnyProblemBMI = da.loc[(da['Diabetes'] == 1) | (da['Hypertension'] == 1) | (da['Stroke'] == 1) , \"BMI\"]\n",
    "AnyProblemBMI.mean()"
   ]
  },
  {
   "cell_type": "markdown",
   "metadata": {},
   "source": [
    "As we can see, a person with no disease has a mean BMI of 26.9 while if they have at least one of the disease, they have a mean BMI of 31.2. The average person with no disease is overweight while the average person with at least one disease is obese. This indicates that weight may be a factor in a person's disease state. To see if this difference in weight is actually important, we will see if the differences are statistically significant.\n",
    "\n",
    "We also see that BMI is different between each disease state, with stroke being the lowest average BMI and Diabetes being the highest average BMI. Although this is the case, there may be a time where a person has multiple disease state, such as having a stroke and diabetes but no hypertension. So further analysis will need to be performed."
   ]
  },
  {
   "cell_type": "code",
   "execution_count": 136,
   "metadata": {},
   "outputs": [
    {
     "data": {
      "text/plain": [
       "(-76.28418171001145, 0.0)"
      ]
     },
     "execution_count": 136,
     "metadata": {},
     "output_type": "execute_result"
    }
   ],
   "source": [
    "sm.stats.ztest(NoDiseaseBMI,AnyProblemBMI)"
   ]
  },
  {
   "attachments": {},
   "cell_type": "markdown",
   "metadata": {},
   "source": [
    "With a p-value of 0, we can reject the null hypothesis that there is no difference in the average BMI of the diseased state verus non-diseased state. This tells that there is indeed a statistical difference between the diseased state and non diseased state and that BMI could be a big factor on diseased state. Although this is the case, is there a statistical difference between the BMI of diabetes, hypertension, and strokes?"
   ]
  },
  {
   "cell_type": "code",
   "execution_count": 137,
   "metadata": {},
   "outputs": [
    {
     "data": {
      "text/plain": [
       "F_onewayResult(statistic=109.70460449969218, pvalue=2.639142949755514e-48)"
      ]
     },
     "execution_count": 137,
     "metadata": {},
     "output_type": "execute_result"
    }
   ],
   "source": [
    "f_oneway(DiabetesBMI, HypertensionBMI, StrokeBMI)"
   ]
  },
  {
   "attachments": {},
   "cell_type": "markdown",
   "metadata": {},
   "source": [
    "Using ANOVA one way, we see that the p-value is basically 0, allowing us to reject the null hypothesis. This implies that we have sufficient proof to say that there exists a difference in BMI among the three disease states."
   ]
  },
  {
   "cell_type": "markdown",
   "metadata": {},
   "source": [
    "## Smoker\n"
   ]
  },
  {
   "cell_type": "markdown",
   "metadata": {},
   "source": [
    "Smoking may also cause significant health problems. We will see if people with disease states are more likely to be smokers or not. What is relationship of smokers and disease states?"
   ]
  },
  {
   "cell_type": "code",
   "execution_count": 138,
   "metadata": {},
   "outputs": [],
   "source": [
    "da['Diabetes'] = da['Diabetes'].replace([0, 1], ['No', 'Yes'])\n",
    "da['Hypertension'] = da['Hypertension'].replace([0, 1], ['No', 'Yes'])\n",
    "da['Stroke'] = da['Stroke'].replace([0, 1], ['No', 'Yes'])"
   ]
  },
  {
   "cell_type": "code",
   "execution_count": 139,
   "metadata": {},
   "outputs": [
    {
     "data": {
      "text/html": [
       "<div>\n",
       "<style scoped>\n",
       "    .dataframe tbody tr th:only-of-type {\n",
       "        vertical-align: middle;\n",
       "    }\n",
       "\n",
       "    .dataframe tbody tr th {\n",
       "        vertical-align: top;\n",
       "    }\n",
       "\n",
       "    .dataframe thead th {\n",
       "        text-align: right;\n",
       "    }\n",
       "</style>\n",
       "<table border=\"1\" class=\"dataframe\">\n",
       "  <thead>\n",
       "    <tr style=\"text-align: right;\">\n",
       "      <th>Diabetes</th>\n",
       "      <th>Smoker</th>\n",
       "      <th>No</th>\n",
       "      <th>Yes</th>\n",
       "      <th>All</th>\n",
       "      <th>Yes-Prop</th>\n",
       "    </tr>\n",
       "  </thead>\n",
       "  <tbody>\n",
       "    <tr>\n",
       "      <th>0</th>\n",
       "      <td>No</td>\n",
       "      <td>20065</td>\n",
       "      <td>17029</td>\n",
       "      <td>37094</td>\n",
       "      <td>45.907694</td>\n",
       "    </tr>\n",
       "    <tr>\n",
       "      <th>1</th>\n",
       "      <td>Yes</td>\n",
       "      <td>15281</td>\n",
       "      <td>18317</td>\n",
       "      <td>33598</td>\n",
       "      <td>54.518126</td>\n",
       "    </tr>\n",
       "  </tbody>\n",
       "</table>\n",
       "</div>"
      ],
      "text/plain": [
       "Diabetes Smoker     No    Yes    All   Yes-Prop\n",
       "0            No  20065  17029  37094  45.907694\n",
       "1           Yes  15281  18317  33598  54.518126"
      ]
     },
     "execution_count": 139,
     "metadata": {},
     "output_type": "execute_result"
    }
   ],
   "source": [
    "da['Smoker'] = da['Smoker'].replace([0,1], ['No','Yes'])\n",
    "crosstabs = pd.crosstab(index=da['Smoker'], columns = da['Diabetes'], margins=True)\n",
    "crosstabs['Yes-Prop'] = crosstabs['Yes'] / crosstabs['All'] * 100\n",
    "crosstabs = crosstabs.drop('All')\n",
    "crosstabs.reset_index(inplace=True)\n",
    "crosstabs"
   ]
  },
  {
   "cell_type": "code",
   "execution_count": 140,
   "metadata": {},
   "outputs": [],
   "source": [
    "SDprop = sns.barplot(x='Smoker', y= 'Yes-Prop', data=crosstabs)\n",
    "SDprop.bar_label(SDprop.containers[0], fmt='%.2f%%')\n",
    "plt.title(\"Proportion of smokers who has diabetes\")\n",
    "plt.savefig('SDprop.jpg')\n",
    "plt.close()"
   ]
  },
  {
   "attachments": {},
   "cell_type": "markdown",
   "metadata": {},
   "source": [
    "![](SDprop.jpg)"
   ]
  },
  {
   "cell_type": "code",
   "execution_count": 141,
   "metadata": {},
   "outputs": [
    {
     "data": {
      "text/plain": [
       "(22.950077787977154, 3.9188850311045014e-116, 70690.0)"
      ]
     },
     "execution_count": 141,
     "metadata": {},
     "output_type": "execute_result"
    }
   ],
   "source": [
    "SDY = da.loc[da['Smoker'] == 'Yes', \"Diabetes\"].replace({\"Yes\": 1, \"No\": 0})\n",
    "SDN = da.loc[da['Smoker'] == 'No', \"Diabetes\"].replace({\"Yes\": 1, \"No\": 0})\n",
    "\n",
    "sm.stats.ttest_ind(SDY, SDN)"
   ]
  },
  {
   "cell_type": "code",
   "execution_count": 142,
   "metadata": {},
   "outputs": [
    {
     "data": {
      "text/html": [
       "<div>\n",
       "<style scoped>\n",
       "    .dataframe tbody tr th:only-of-type {\n",
       "        vertical-align: middle;\n",
       "    }\n",
       "\n",
       "    .dataframe tbody tr th {\n",
       "        vertical-align: top;\n",
       "    }\n",
       "\n",
       "    .dataframe thead th {\n",
       "        text-align: right;\n",
       "    }\n",
       "</style>\n",
       "<table border=\"1\" class=\"dataframe\">\n",
       "  <thead>\n",
       "    <tr style=\"text-align: right;\">\n",
       "      <th>Hypertension</th>\n",
       "      <th>Smoker</th>\n",
       "      <th>No</th>\n",
       "      <th>Yes</th>\n",
       "      <th>All</th>\n",
       "      <th>Yes-Prop</th>\n",
       "    </tr>\n",
       "  </thead>\n",
       "  <tbody>\n",
       "    <tr>\n",
       "      <th>0</th>\n",
       "      <td>No</td>\n",
       "      <td>17724</td>\n",
       "      <td>19370</td>\n",
       "      <td>37094</td>\n",
       "      <td>52.218688</td>\n",
       "    </tr>\n",
       "    <tr>\n",
       "      <th>1</th>\n",
       "      <td>Yes</td>\n",
       "      <td>13136</td>\n",
       "      <td>20462</td>\n",
       "      <td>33598</td>\n",
       "      <td>60.902435</td>\n",
       "    </tr>\n",
       "  </tbody>\n",
       "</table>\n",
       "</div>"
      ],
      "text/plain": [
       "Hypertension Smoker     No    Yes    All   Yes-Prop\n",
       "0                No  17724  19370  37094  52.218688\n",
       "1               Yes  13136  20462  33598  60.902435"
      ]
     },
     "execution_count": 142,
     "metadata": {},
     "output_type": "execute_result"
    }
   ],
   "source": [
    "crosstabs = pd.crosstab(index=da['Smoker'], columns = da['Hypertension'], margins=True)\n",
    "crosstabs['Yes-Prop'] = crosstabs['Yes'] / crosstabs['All'] * 100\n",
    "crosstabs = crosstabs.drop('All')\n",
    "crosstabs.reset_index(inplace=True)\n",
    "crosstabs"
   ]
  },
  {
   "cell_type": "code",
   "execution_count": 143,
   "metadata": {},
   "outputs": [],
   "source": [
    "SHprop = sns.barplot(x='Smoker', y= 'Yes-Prop', data=crosstabs)\n",
    "SHprop.bar_label(SHprop.containers[0], fmt='%.2f%%')\n",
    "plt.title(\"Proportion of smokers who has hypertension\")\n",
    "plt.savefig('SHprop.jpg')\n",
    "plt.close()"
   ]
  },
  {
   "attachments": {},
   "cell_type": "markdown",
   "metadata": {},
   "source": [
    "![](SHprop.jpg)"
   ]
  },
  {
   "cell_type": "code",
   "execution_count": 144,
   "metadata": {},
   "outputs": [
    {
     "data": {
      "text/plain": [
       "(23.33711955127574, 5.309186308886915e-120, 70690.0)"
      ]
     },
     "execution_count": 144,
     "metadata": {},
     "output_type": "execute_result"
    }
   ],
   "source": [
    "SHY = da.loc[da['Smoker'] == 'Yes', \"Hypertension\"].replace({\"Yes\": 1, \"No\": 0})\n",
    "SHN = da.loc[da['Smoker'] == 'No', \"Hypertension\"].replace({\"Yes\": 1, \"No\": 0})\n",
    "\n",
    "sm.stats.ttest_ind(SHY, SHN)"
   ]
  },
  {
   "cell_type": "code",
   "execution_count": 145,
   "metadata": {},
   "outputs": [
    {
     "data": {
      "text/html": [
       "<div>\n",
       "<style scoped>\n",
       "    .dataframe tbody tr th:only-of-type {\n",
       "        vertical-align: middle;\n",
       "    }\n",
       "\n",
       "    .dataframe tbody tr th {\n",
       "        vertical-align: top;\n",
       "    }\n",
       "\n",
       "    .dataframe thead th {\n",
       "        text-align: right;\n",
       "    }\n",
       "</style>\n",
       "<table border=\"1\" class=\"dataframe\">\n",
       "  <thead>\n",
       "    <tr style=\"text-align: right;\">\n",
       "      <th>Stroke</th>\n",
       "      <th>Smoker</th>\n",
       "      <th>No</th>\n",
       "      <th>Yes</th>\n",
       "      <th>All</th>\n",
       "      <th>Yes-Prop</th>\n",
       "    </tr>\n",
       "  </thead>\n",
       "  <tbody>\n",
       "    <tr>\n",
       "      <th>0</th>\n",
       "      <td>No</td>\n",
       "      <td>35339</td>\n",
       "      <td>1755</td>\n",
       "      <td>37094</td>\n",
       "      <td>4.731223</td>\n",
       "    </tr>\n",
       "    <tr>\n",
       "      <th>1</th>\n",
       "      <td>Yes</td>\n",
       "      <td>30958</td>\n",
       "      <td>2640</td>\n",
       "      <td>33598</td>\n",
       "      <td>7.857611</td>\n",
       "    </tr>\n",
       "  </tbody>\n",
       "</table>\n",
       "</div>"
      ],
      "text/plain": [
       "Stroke Smoker     No   Yes    All  Yes-Prop\n",
       "0          No  35339  1755  37094  4.731223\n",
       "1         Yes  30958  2640  33598  7.857611"
      ]
     },
     "execution_count": 145,
     "metadata": {},
     "output_type": "execute_result"
    }
   ],
   "source": [
    "crosstabs = pd.crosstab(index=da['Smoker'], columns = da['Stroke'], margins=True)\n",
    "crosstabs['Yes-Prop'] = crosstabs['Yes'] / crosstabs['All'] * 100\n",
    "crosstabs = crosstabs.drop('All')\n",
    "crosstabs.reset_index(inplace=True)\n",
    "crosstabs"
   ]
  },
  {
   "cell_type": "code",
   "execution_count": 146,
   "metadata": {},
   "outputs": [],
   "source": [
    "SSprop = sns.barplot(x='Smoker', y= 'Yes-Prop', data=crosstabs)\n",
    "SSprop.bar_label(SSprop.containers[0], fmt='%.2f%%')\n",
    "plt.title(\"Proportion of smokers who has stroke\")\n",
    "plt.savefig('SSprop.jpg')\n",
    "plt.close()"
   ]
  },
  {
   "attachments": {},
   "cell_type": "markdown",
   "metadata": {},
   "source": [
    "![](SSprop.jpg)"
   ]
  },
  {
   "cell_type": "code",
   "execution_count": 147,
   "metadata": {},
   "outputs": [
    {
     "data": {
      "text/plain": [
       "(17.227158711725934, 2.2709636574136042e-66, 70690.0)"
      ]
     },
     "execution_count": 147,
     "metadata": {},
     "output_type": "execute_result"
    }
   ],
   "source": [
    "SSY = da.loc[da['Smoker'] == 'Yes', \"Stroke\"].replace({\"Yes\": 1, \"No\": 0})\n",
    "SSN = da.loc[da['Smoker'] == 'No', \"Stroke\"].replace({\"Yes\": 1, \"No\": 0})\n",
    "\n",
    "sm.stats.ttest_ind(SSY, SSN)"
   ]
  },
  {
   "attachments": {},
   "cell_type": "markdown",
   "metadata": {},
   "source": [
    "We see that smokers are about 48% of the sample. Based on this, 61% of smokers also have hypertension, 55% of smokers have diabetes, and only 8% have had a stroke. These proportions are about 3-10% lower in those of dont smoke. When we do statistiacal analysis for all three diseases, we find that p values are all 0. This tells us that we get to reject the null hypothesis for all the diseases, indicating that there is statistical relationship between both smokers and diseases. This tells us that smoking may play a role in having the disease states."
   ]
  },
  {
   "cell_type": "markdown",
   "metadata": {},
   "source": [
    "## Heart Disease"
   ]
  },
  {
   "cell_type": "markdown",
   "metadata": {},
   "source": [
    "Prior heart disease or attack indicates that there were problems in a person's cardiovascular system. We want to see if they do have problems with their cardiovascular problems, would they also have other diseases, such as diabetes, hypertension, or stroke?\n",
    "\n",
    "We expect to see that those with heart disease or attack also have hypertension since hypertension is usually the start of problems in a person's cardiovascular system."
   ]
  },
  {
   "cell_type": "code",
   "execution_count": 148,
   "metadata": {},
   "outputs": [
    {
     "data": {
      "text/html": [
       "<div>\n",
       "<style scoped>\n",
       "    .dataframe tbody tr th:only-of-type {\n",
       "        vertical-align: middle;\n",
       "    }\n",
       "\n",
       "    .dataframe tbody tr th {\n",
       "        vertical-align: top;\n",
       "    }\n",
       "\n",
       "    .dataframe thead th {\n",
       "        text-align: right;\n",
       "    }\n",
       "</style>\n",
       "<table border=\"1\" class=\"dataframe\">\n",
       "  <thead>\n",
       "    <tr style=\"text-align: right;\">\n",
       "      <th>Diabetes</th>\n",
       "      <th>HeartDiseaseorAttack</th>\n",
       "      <th>No</th>\n",
       "      <th>Yes</th>\n",
       "      <th>All</th>\n",
       "      <th>Yes-Prop</th>\n",
       "    </tr>\n",
       "  </thead>\n",
       "  <tbody>\n",
       "    <tr>\n",
       "      <th>0</th>\n",
       "      <td>No</td>\n",
       "      <td>32775</td>\n",
       "      <td>27468</td>\n",
       "      <td>60243</td>\n",
       "      <td>45.595339</td>\n",
       "    </tr>\n",
       "    <tr>\n",
       "      <th>1</th>\n",
       "      <td>Yes</td>\n",
       "      <td>2571</td>\n",
       "      <td>7878</td>\n",
       "      <td>10449</td>\n",
       "      <td>75.394775</td>\n",
       "    </tr>\n",
       "  </tbody>\n",
       "</table>\n",
       "</div>"
      ],
      "text/plain": [
       "Diabetes HeartDiseaseorAttack     No    Yes    All   Yes-Prop\n",
       "0                          No  32775  27468  60243  45.595339\n",
       "1                         Yes   2571   7878  10449  75.394775"
      ]
     },
     "execution_count": 148,
     "metadata": {},
     "output_type": "execute_result"
    }
   ],
   "source": [
    "da['HeartDiseaseorAttack'] = da['HeartDiseaseorAttack'].replace([0,1], ['No','Yes'])\n",
    "crosstabs = pd.crosstab(index=da['HeartDiseaseorAttack'], columns = da['Diabetes'], margins=True)\n",
    "crosstabs['Yes-Prop'] = crosstabs['Yes'] / crosstabs['All'] * 100\n",
    "crosstabs = crosstabs.drop('All')\n",
    "crosstabs.reset_index(inplace=True)\n",
    "crosstabs"
   ]
  },
  {
   "cell_type": "code",
   "execution_count": 149,
   "metadata": {},
   "outputs": [],
   "source": [
    "HDDprop = sns.barplot(x='HeartDiseaseorAttack', y= 'Yes-Prop', data=crosstabs)\n",
    "HDDprop.bar_label(HDDprop.containers[0], fmt='%.2f%%')\n",
    "plt.title(\"Proportion of people with heart disease or attack who has diabetes\")\n",
    "plt.savefig('HDDprop.jpg')\n",
    "plt.close()"
   ]
  },
  {
   "attachments": {},
   "cell_type": "markdown",
   "metadata": {},
   "source": [
    "![](HDDprop.jpg)"
   ]
  },
  {
   "cell_type": "code",
   "execution_count": 150,
   "metadata": {},
   "outputs": [
    {
     "data": {
      "text/plain": [
       "(57.54096101446482, 0.0, 70690.0)"
      ]
     },
     "execution_count": 150,
     "metadata": {},
     "output_type": "execute_result"
    }
   ],
   "source": [
    "HDY = da.loc[da['HeartDiseaseorAttack'] == 'Yes', \"Diabetes\"].replace({\"Yes\": 1, \"No\": 0})\n",
    "HDN = da.loc[da['HeartDiseaseorAttack'] == 'No', \"Diabetes\"].replace({\"Yes\": 1, \"No\": 0})\n",
    "\n",
    "sm.stats.ttest_ind(HDY, HDN)"
   ]
  },
  {
   "cell_type": "code",
   "execution_count": 151,
   "metadata": {},
   "outputs": [
    {
     "data": {
      "text/html": [
       "<div>\n",
       "<style scoped>\n",
       "    .dataframe tbody tr th:only-of-type {\n",
       "        vertical-align: middle;\n",
       "    }\n",
       "\n",
       "    .dataframe tbody tr th {\n",
       "        vertical-align: top;\n",
       "    }\n",
       "\n",
       "    .dataframe thead th {\n",
       "        text-align: right;\n",
       "    }\n",
       "</style>\n",
       "<table border=\"1\" class=\"dataframe\">\n",
       "  <thead>\n",
       "    <tr style=\"text-align: right;\">\n",
       "      <th>Hypertension</th>\n",
       "      <th>HeartDiseaseorAttack</th>\n",
       "      <th>No</th>\n",
       "      <th>Yes</th>\n",
       "      <th>All</th>\n",
       "      <th>Yes-Prop</th>\n",
       "    </tr>\n",
       "  </thead>\n",
       "  <tbody>\n",
       "    <tr>\n",
       "      <th>0</th>\n",
       "      <td>No</td>\n",
       "      <td>28921</td>\n",
       "      <td>31322</td>\n",
       "      <td>60243</td>\n",
       "      <td>51.992763</td>\n",
       "    </tr>\n",
       "    <tr>\n",
       "      <th>1</th>\n",
       "      <td>Yes</td>\n",
       "      <td>1939</td>\n",
       "      <td>8510</td>\n",
       "      <td>10449</td>\n",
       "      <td>81.443200</td>\n",
       "    </tr>\n",
       "  </tbody>\n",
       "</table>\n",
       "</div>"
      ],
      "text/plain": [
       "Hypertension HeartDiseaseorAttack     No    Yes    All   Yes-Prop\n",
       "0                              No  28921  31322  60243  51.992763\n",
       "1                             Yes   1939   8510  10449  81.443200"
      ]
     },
     "execution_count": 151,
     "metadata": {},
     "output_type": "execute_result"
    }
   ],
   "source": [
    "crosstabs = pd.crosstab(index=da['HeartDiseaseorAttack'], columns = da['Hypertension'], margins=True)\n",
    "crosstabs['Yes-Prop'] = crosstabs['Yes'] / crosstabs['All'] * 100\n",
    "crosstabs = crosstabs.drop('All')\n",
    "crosstabs.reset_index(inplace=True)\n",
    "crosstabs"
   ]
  },
  {
   "cell_type": "code",
   "execution_count": 152,
   "metadata": {},
   "outputs": [],
   "source": [
    "HDHprop = sns.barplot(x='HeartDiseaseorAttack', y= 'Yes-Prop', data=crosstabs)\n",
    "HDHprop.bar_label(HDHprop.containers[0], fmt='%.2f%%')\n",
    "plt.title(\"Proportion of people with heart disease or attack who has hypertension\")\n",
    "plt.savefig('HDHprop.jpg')\n",
    "plt.close()"
   ]
  },
  {
   "attachments": {},
   "cell_type": "markdown",
   "metadata": {},
   "source": [
    "![](HDHprop.jpg)"
   ]
  },
  {
   "cell_type": "code",
   "execution_count": 153,
   "metadata": {},
   "outputs": [
    {
     "data": {
      "text/plain": [
       "(57.32088541634224, 0.0, 70690.0)"
      ]
     },
     "execution_count": 153,
     "metadata": {},
     "output_type": "execute_result"
    }
   ],
   "source": [
    "HHY = da.loc[da['HeartDiseaseorAttack'] == 'Yes', \"Hypertension\"].replace({\"Yes\": 1, \"No\": 0})\n",
    "HHN = da.loc[da['HeartDiseaseorAttack'] == 'No', \"Hypertension\"].replace({\"Yes\": 1, \"No\": 0})\n",
    "\n",
    "sm.stats.ttest_ind(HHY, HHN)"
   ]
  },
  {
   "cell_type": "code",
   "execution_count": 154,
   "metadata": {},
   "outputs": [
    {
     "data": {
      "text/html": [
       "<div>\n",
       "<style scoped>\n",
       "    .dataframe tbody tr th:only-of-type {\n",
       "        vertical-align: middle;\n",
       "    }\n",
       "\n",
       "    .dataframe tbody tr th {\n",
       "        vertical-align: top;\n",
       "    }\n",
       "\n",
       "    .dataframe thead th {\n",
       "        text-align: right;\n",
       "    }\n",
       "</style>\n",
       "<table border=\"1\" class=\"dataframe\">\n",
       "  <thead>\n",
       "    <tr style=\"text-align: right;\">\n",
       "      <th>Stroke</th>\n",
       "      <th>HeartDiseaseorAttack</th>\n",
       "      <th>No</th>\n",
       "      <th>Yes</th>\n",
       "      <th>All</th>\n",
       "      <th>Yes-Prop</th>\n",
       "    </tr>\n",
       "  </thead>\n",
       "  <tbody>\n",
       "    <tr>\n",
       "      <th>0</th>\n",
       "      <td>No</td>\n",
       "      <td>57851</td>\n",
       "      <td>2392</td>\n",
       "      <td>60243</td>\n",
       "      <td>3.970586</td>\n",
       "    </tr>\n",
       "    <tr>\n",
       "      <th>1</th>\n",
       "      <td>Yes</td>\n",
       "      <td>8446</td>\n",
       "      <td>2003</td>\n",
       "      <td>10449</td>\n",
       "      <td>19.169298</td>\n",
       "    </tr>\n",
       "  </tbody>\n",
       "</table>\n",
       "</div>"
      ],
      "text/plain": [
       "Stroke HeartDiseaseorAttack     No   Yes    All   Yes-Prop\n",
       "0                        No  57851  2392  60243   3.970586\n",
       "1                       Yes   8446  2003  10449  19.169298"
      ]
     },
     "execution_count": 154,
     "metadata": {},
     "output_type": "execute_result"
    }
   ],
   "source": [
    "da['HeartDiseaseorAttack'] = da['HeartDiseaseorAttack'].replace([0,1], ['No','Yes'])\n",
    "crosstabs = pd.crosstab(index=da['HeartDiseaseorAttack'], columns = da['Stroke'], margins=True)\n",
    "crosstabs['Yes-Prop'] = crosstabs['Yes'] / crosstabs['All'] * 100\n",
    "crosstabs = crosstabs.drop('All')\n",
    "crosstabs.reset_index(inplace=True)\n",
    "crosstabs"
   ]
  },
  {
   "cell_type": "code",
   "execution_count": 155,
   "metadata": {},
   "outputs": [],
   "source": [
    "HDSprop = sns.barplot(x='HeartDiseaseorAttack', y= 'Yes-Prop', data=crosstabs)\n",
    "HDSprop.bar_label(HDSprop.containers[0], fmt='%.2f%%')\n",
    "plt.title(\"Proportion of people with heart disease or attack who had a stroke\")\n",
    "plt.savefig('HDSprop.jpg')\n",
    "plt.close()"
   ]
  },
  {
   "attachments": {},
   "cell_type": "markdown",
   "metadata": {},
   "source": [
    "![](HDSprop.jpg)"
   ]
  },
  {
   "cell_type": "code",
   "execution_count": 156,
   "metadata": {},
   "outputs": [
    {
     "data": {
      "text/plain": [
       "(60.93495753305408, 0.0, 70690.0)"
      ]
     },
     "execution_count": 156,
     "metadata": {},
     "output_type": "execute_result"
    }
   ],
   "source": [
    "HSY = da.loc[da['HeartDiseaseorAttack'] == 'Yes', \"Stroke\"].replace({\"Yes\": 1, \"No\": 0})\n",
    "HSN = da.loc[da['HeartDiseaseorAttack'] == 'No', \"Stroke\"].replace({\"Yes\": 1, \"No\": 0})\n",
    "\n",
    "sm.stats.ttest_ind(HSY, HSN)"
   ]
  },
  {
   "attachments": {},
   "cell_type": "markdown",
   "metadata": {},
   "source": [
    "As we see, if a person had prior heart disease or attack, they are more likely to have diabetes and hypertension. 75% of people who had prior heart disease or attack also have diabetes, while a staggering 81% also have hypertension. Only 19% of those with heart disease also have had a stroke. Although this is the case, 4% of people had no heart disease but had a stroke. This tells us that there may be some relationship with heart disease and strokes which can be determined with a larger population of people with heart disease or attack."
   ]
  },
  {
   "cell_type": "markdown",
   "metadata": {},
   "source": [
    "## Physical Activity"
   ]
  },
  {
   "cell_type": "markdown",
   "metadata": {},
   "source": [
    "We want to see if a person who do physical activity also has a disease state. This is much harder to analyze. One potential flaw in this analysis is that we wouldn't know whether the person did physical activity to try and prevent disease states or if it is to manage the disease state. Although this is the case, we will assume that there is a mix of both, but more information needs to be collected to get proper insight.\n",
    "\n",
    "The question we want to see is if people doing physical activities also have disease states. "
   ]
  },
  {
   "cell_type": "code",
   "execution_count": 157,
   "metadata": {},
   "outputs": [
    {
     "data": {
      "text/html": [
       "<div>\n",
       "<style scoped>\n",
       "    .dataframe tbody tr th:only-of-type {\n",
       "        vertical-align: middle;\n",
       "    }\n",
       "\n",
       "    .dataframe tbody tr th {\n",
       "        vertical-align: top;\n",
       "    }\n",
       "\n",
       "    .dataframe thead th {\n",
       "        text-align: right;\n",
       "    }\n",
       "</style>\n",
       "<table border=\"1\" class=\"dataframe\">\n",
       "  <thead>\n",
       "    <tr style=\"text-align: right;\">\n",
       "      <th>Diabetes</th>\n",
       "      <th>PhysActivity</th>\n",
       "      <th>No</th>\n",
       "      <th>Yes</th>\n",
       "      <th>All</th>\n",
       "      <th>Yes-Prop</th>\n",
       "    </tr>\n",
       "  </thead>\n",
       "  <tbody>\n",
       "    <tr>\n",
       "      <th>0</th>\n",
       "      <td>No</td>\n",
       "      <td>7934</td>\n",
       "      <td>13059</td>\n",
       "      <td>20993</td>\n",
       "      <td>62.206450</td>\n",
       "    </tr>\n",
       "    <tr>\n",
       "      <th>1</th>\n",
       "      <td>Yes</td>\n",
       "      <td>27412</td>\n",
       "      <td>22287</td>\n",
       "      <td>49699</td>\n",
       "      <td>44.843961</td>\n",
       "    </tr>\n",
       "  </tbody>\n",
       "</table>\n",
       "</div>"
      ],
      "text/plain": [
       "Diabetes PhysActivity     No    Yes    All   Yes-Prop\n",
       "0                  No   7934  13059  20993  62.206450\n",
       "1                 Yes  27412  22287  49699  44.843961"
      ]
     },
     "execution_count": 157,
     "metadata": {},
     "output_type": "execute_result"
    }
   ],
   "source": [
    "da['PhysActivity'] = da['PhysActivity'].replace([0,1], ['No','Yes'])\n",
    "crosstabs = pd.crosstab(index=da['PhysActivity'], columns = da['Diabetes'], margins=True)\n",
    "crosstabs['Yes-Prop'] = crosstabs['Yes'] / crosstabs['All'] * 100\n",
    "crosstabs = crosstabs.drop('All')\n",
    "crosstabs.reset_index(inplace=True)\n",
    "crosstabs"
   ]
  },
  {
   "cell_type": "code",
   "execution_count": 158,
   "metadata": {},
   "outputs": [],
   "source": [
    "PADprop = sns.barplot(x='PhysActivity', y= 'Yes-Prop', data=crosstabs)\n",
    "PADprop.bar_label(PADprop.containers[0], fmt='%.2f%%')\n",
    "plt.title(\"Proportion of people who do physical activity who has diabetes\")\n",
    "plt.savefig('PADprop.jpg')\n",
    "plt.close()"
   ]
  },
  {
   "attachments": {},
   "cell_type": "markdown",
   "metadata": {},
   "source": [
    "![](PADprop.jpg)"
   ]
  },
  {
   "cell_type": "code",
   "execution_count": 159,
   "metadata": {},
   "outputs": [
    {
     "data": {
      "text/plain": [
       "(-42.72660670000857, 0.0, 70690.0)"
      ]
     },
     "execution_count": 159,
     "metadata": {},
     "output_type": "execute_result"
    }
   ],
   "source": [
    "HSY = da.loc[da['PhysActivity'] == 'Yes', \"Diabetes\"].replace({\"Yes\": 1, \"No\": 0})\n",
    "HSN = da.loc[da['PhysActivity'] == 'No', \"Diabetes\"].replace({\"Yes\": 1, \"No\": 0})\n",
    "\n",
    "sm.stats.ttest_ind(HSY, HSN)"
   ]
  },
  {
   "cell_type": "code",
   "execution_count": 160,
   "metadata": {},
   "outputs": [
    {
     "data": {
      "text/html": [
       "<div>\n",
       "<style scoped>\n",
       "    .dataframe tbody tr th:only-of-type {\n",
       "        vertical-align: middle;\n",
       "    }\n",
       "\n",
       "    .dataframe tbody tr th {\n",
       "        vertical-align: top;\n",
       "    }\n",
       "\n",
       "    .dataframe thead th {\n",
       "        text-align: right;\n",
       "    }\n",
       "</style>\n",
       "<table border=\"1\" class=\"dataframe\">\n",
       "  <thead>\n",
       "    <tr style=\"text-align: right;\">\n",
       "      <th>Hypertension</th>\n",
       "      <th>PhysActivity</th>\n",
       "      <th>No</th>\n",
       "      <th>Yes</th>\n",
       "      <th>All</th>\n",
       "      <th>Yes-Prop</th>\n",
       "    </tr>\n",
       "  </thead>\n",
       "  <tbody>\n",
       "    <tr>\n",
       "      <th>0</th>\n",
       "      <td>No</td>\n",
       "      <td>6984</td>\n",
       "      <td>14009</td>\n",
       "      <td>20993</td>\n",
       "      <td>66.731768</td>\n",
       "    </tr>\n",
       "    <tr>\n",
       "      <th>1</th>\n",
       "      <td>Yes</td>\n",
       "      <td>23876</td>\n",
       "      <td>25823</td>\n",
       "      <td>49699</td>\n",
       "      <td>51.958792</td>\n",
       "    </tr>\n",
       "  </tbody>\n",
       "</table>\n",
       "</div>"
      ],
      "text/plain": [
       "Hypertension PhysActivity     No    Yes    All   Yes-Prop\n",
       "0                      No   6984  14009  20993  66.731768\n",
       "1                     Yes  23876  25823  49699  51.958792"
      ]
     },
     "execution_count": 160,
     "metadata": {},
     "output_type": "execute_result"
    }
   ],
   "source": [
    "crosstabs = pd.crosstab(index=da['PhysActivity'], columns = da['Hypertension'], margins=True)\n",
    "crosstabs['Yes-Prop'] = crosstabs['Yes'] / crosstabs['All'] * 100\n",
    "crosstabs = crosstabs.drop('All')\n",
    "crosstabs.reset_index(inplace=True)\n",
    "crosstabs"
   ]
  },
  {
   "cell_type": "code",
   "execution_count": 161,
   "metadata": {},
   "outputs": [],
   "source": [
    "PAHprop = sns.barplot(x='PhysActivity', y= 'Yes-Prop', data=crosstabs)\n",
    "PAHprop.bar_label(PAHprop.containers[0], fmt='%.2f%%')\n",
    "plt.title(\"Proportion of people who do physical activity who has hypertension\")\n",
    "plt.savefig('PAHprop.jpg')\n",
    "plt.close()"
   ]
  },
  {
   "attachments": {},
   "cell_type": "markdown",
   "metadata": {},
   "source": [
    "![](PAHprop.jpg)"
   ]
  },
  {
   "cell_type": "code",
   "execution_count": 162,
   "metadata": {},
   "outputs": [
    {
     "data": {
      "text/plain": [
       "(-36.52617130859428, 2.1559122707646487e-289, 70690.0)"
      ]
     },
     "execution_count": 162,
     "metadata": {},
     "output_type": "execute_result"
    }
   ],
   "source": [
    "HSY = da.loc[da['PhysActivity'] == 'Yes', \"Hypertension\"].replace({\"Yes\": 1, \"No\": 0})\n",
    "HSN = da.loc[da['PhysActivity'] == 'No', \"Hypertension\"].replace({\"Yes\": 1, \"No\": 0})\n",
    "\n",
    "sm.stats.ttest_ind(HSY, HSN)"
   ]
  },
  {
   "cell_type": "code",
   "execution_count": 163,
   "metadata": {},
   "outputs": [
    {
     "data": {
      "text/html": [
       "<div>\n",
       "<style scoped>\n",
       "    .dataframe tbody tr th:only-of-type {\n",
       "        vertical-align: middle;\n",
       "    }\n",
       "\n",
       "    .dataframe tbody tr th {\n",
       "        vertical-align: top;\n",
       "    }\n",
       "\n",
       "    .dataframe thead th {\n",
       "        text-align: right;\n",
       "    }\n",
       "</style>\n",
       "<table border=\"1\" class=\"dataframe\">\n",
       "  <thead>\n",
       "    <tr style=\"text-align: right;\">\n",
       "      <th>Stroke</th>\n",
       "      <th>PhysActivity</th>\n",
       "      <th>No</th>\n",
       "      <th>Yes</th>\n",
       "      <th>All</th>\n",
       "      <th>Yes-Prop</th>\n",
       "    </tr>\n",
       "  </thead>\n",
       "  <tbody>\n",
       "    <tr>\n",
       "      <th>0</th>\n",
       "      <td>No</td>\n",
       "      <td>19064</td>\n",
       "      <td>1929</td>\n",
       "      <td>20993</td>\n",
       "      <td>9.188777</td>\n",
       "    </tr>\n",
       "    <tr>\n",
       "      <th>1</th>\n",
       "      <td>Yes</td>\n",
       "      <td>47233</td>\n",
       "      <td>2466</td>\n",
       "      <td>49699</td>\n",
       "      <td>4.961870</td>\n",
       "    </tr>\n",
       "  </tbody>\n",
       "</table>\n",
       "</div>"
      ],
      "text/plain": [
       "Stroke PhysActivity     No   Yes    All  Yes-Prop\n",
       "0                No  19064  1929  20993  9.188777\n",
       "1               Yes  47233  2466  49699  4.961870"
      ]
     },
     "execution_count": 163,
     "metadata": {},
     "output_type": "execute_result"
    }
   ],
   "source": [
    "crosstabs = pd.crosstab(index=da['PhysActivity'], columns = da['Stroke'], margins=True)\n",
    "crosstabs['Yes-Prop'] = crosstabs['Yes'] / crosstabs['All'] * 100\n",
    "crosstabs = crosstabs.drop('All')\n",
    "crosstabs.reset_index(inplace=True)\n",
    "crosstabs"
   ]
  },
  {
   "cell_type": "code",
   "execution_count": 164,
   "metadata": {},
   "outputs": [],
   "source": [
    "PASprop = sns.barplot(x='PhysActivity', y= 'Yes-Prop', data=crosstabs)\n",
    "PASprop.bar_label(PASprop.containers[0], fmt='%.2f%%')\n",
    "plt.title(\"Proportion of people who do physical activity who has stroke\")\n",
    "plt.savefig('PASprop.jpg')\n",
    "plt.close()"
   ]
  },
  {
   "attachments": {},
   "cell_type": "markdown",
   "metadata": {},
   "source": [
    "![](PASprop.jpg)"
   ]
  },
  {
   "cell_type": "code",
   "execution_count": 165,
   "metadata": {},
   "outputs": [
    {
     "data": {
      "text/plain": [
       "(-21.334380399604836, 1.133210389199026e-100, 70690.0)"
      ]
     },
     "execution_count": 165,
     "metadata": {},
     "output_type": "execute_result"
    }
   ],
   "source": [
    "HSY = da.loc[da['PhysActivity'] == 'Yes', \"Stroke\"].replace({\"Yes\": 1, \"No\": 0})\n",
    "HSN = da.loc[da['PhysActivity'] == 'No', \"Stroke\"].replace({\"Yes\": 1, \"No\": 0})\n",
    "\n",
    "sm.stats.ttest_ind(HSY, HSN)"
   ]
  },
  {
   "attachments": {},
   "cell_type": "markdown",
   "metadata": {},
   "source": [
    "There is a higher proportion of those who do no physical activity who also have disease states compared to those who do physical activity. This is seen in all three disease states and the differences are pretty large. In addition, when we do statistical analysis, we see that p values for all three tests are basically 0. This tells us that this there is indeed a statistical relationship between if a person does physical activity or not and whether they have the diseases. In this case, it can be said that if they do not do physical activity, they are more likely to have the diseases."
   ]
  },
  {
   "cell_type": "markdown",
   "metadata": {},
   "source": [
    "## Heavy Alcohol Consumption"
   ]
  },
  {
   "cell_type": "code",
   "execution_count": 166,
   "metadata": {},
   "outputs": [
    {
     "data": {
      "text/html": [
       "<div>\n",
       "<style scoped>\n",
       "    .dataframe tbody tr th:only-of-type {\n",
       "        vertical-align: middle;\n",
       "    }\n",
       "\n",
       "    .dataframe tbody tr th {\n",
       "        vertical-align: top;\n",
       "    }\n",
       "\n",
       "    .dataframe thead th {\n",
       "        text-align: right;\n",
       "    }\n",
       "</style>\n",
       "<table border=\"1\" class=\"dataframe\">\n",
       "  <thead>\n",
       "    <tr style=\"text-align: right;\">\n",
       "      <th>Diabetes</th>\n",
       "      <th>HvyAlcoholConsump</th>\n",
       "      <th>No</th>\n",
       "      <th>Yes</th>\n",
       "      <th>All</th>\n",
       "      <th>Yes-Prop</th>\n",
       "    </tr>\n",
       "  </thead>\n",
       "  <tbody>\n",
       "    <tr>\n",
       "      <th>0</th>\n",
       "      <td>No</td>\n",
       "      <td>33158</td>\n",
       "      <td>34514</td>\n",
       "      <td>67672</td>\n",
       "      <td>51.001891</td>\n",
       "    </tr>\n",
       "    <tr>\n",
       "      <th>1</th>\n",
       "      <td>Yes</td>\n",
       "      <td>2188</td>\n",
       "      <td>832</td>\n",
       "      <td>3020</td>\n",
       "      <td>27.549669</td>\n",
       "    </tr>\n",
       "  </tbody>\n",
       "</table>\n",
       "</div>"
      ],
      "text/plain": [
       "Diabetes HvyAlcoholConsump     No    Yes    All   Yes-Prop\n",
       "0                       No  33158  34514  67672  51.001891\n",
       "1                      Yes   2188    832   3020  27.549669"
      ]
     },
     "execution_count": 166,
     "metadata": {},
     "output_type": "execute_result"
    }
   ],
   "source": [
    "da['HvyAlcoholConsump'] = da['HvyAlcoholConsump'].replace([0,1], ['No','Yes'])\n",
    "crosstabs = pd.crosstab(index=da['HvyAlcoholConsump'], columns = da['Diabetes'], margins=True)\n",
    "crosstabs['Yes-Prop'] = crosstabs['Yes'] / crosstabs['All'] * 100\n",
    "crosstabs = crosstabs.drop('All')\n",
    "crosstabs.reset_index(inplace=True)\n",
    "crosstabs"
   ]
  },
  {
   "cell_type": "code",
   "execution_count": 167,
   "metadata": {},
   "outputs": [],
   "source": [
    "HADprop = sns.barplot(x='HvyAlcoholConsump', y= 'Yes-Prop', data=crosstabs)\n",
    "HADprop.bar_label(HADprop.containers[0], fmt='%.2f%%')\n",
    "plt.title(\"Proportion of Heavy Alcohol Consumption with diabetes\")\n",
    "plt.savefig('HADprop.jpg')\n",
    "plt.close()"
   ]
  },
  {
   "attachments": {},
   "cell_type": "markdown",
   "metadata": {},
   "source": [
    "![](HADprop.jpg)"
   ]
  },
  {
   "cell_type": "code",
   "execution_count": 168,
   "metadata": {},
   "outputs": [
    {
     "data": {
      "text/plain": [
       "(-25.33338621951967, 5.854500651121494e-141, 70690.0)"
      ]
     },
     "execution_count": 168,
     "metadata": {},
     "output_type": "execute_result"
    }
   ],
   "source": [
    "HSY = da.loc[da['HvyAlcoholConsump'] == 'Yes', \"Diabetes\"].replace({\"Yes\": 1, \"No\": 0})\n",
    "HSN = da.loc[da['HvyAlcoholConsump'] == 'No', \"Diabetes\"].replace({\"Yes\": 1, \"No\": 0})\n",
    "\n",
    "sm.stats.ttest_ind(HSY, HSN)"
   ]
  },
  {
   "cell_type": "code",
   "execution_count": 169,
   "metadata": {},
   "outputs": [
    {
     "data": {
      "text/html": [
       "<div>\n",
       "<style scoped>\n",
       "    .dataframe tbody tr th:only-of-type {\n",
       "        vertical-align: middle;\n",
       "    }\n",
       "\n",
       "    .dataframe tbody tr th {\n",
       "        vertical-align: top;\n",
       "    }\n",
       "\n",
       "    .dataframe thead th {\n",
       "        text-align: right;\n",
       "    }\n",
       "</style>\n",
       "<table border=\"1\" class=\"dataframe\">\n",
       "  <thead>\n",
       "    <tr style=\"text-align: right;\">\n",
       "      <th>Hypertension</th>\n",
       "      <th>HvyAlcoholConsump</th>\n",
       "      <th>No</th>\n",
       "      <th>Yes</th>\n",
       "      <th>All</th>\n",
       "      <th>Yes-Prop</th>\n",
       "    </tr>\n",
       "  </thead>\n",
       "  <tbody>\n",
       "    <tr>\n",
       "      <th>0</th>\n",
       "      <td>No</td>\n",
       "      <td>29350</td>\n",
       "      <td>38322</td>\n",
       "      <td>67672</td>\n",
       "      <td>56.629034</td>\n",
       "    </tr>\n",
       "    <tr>\n",
       "      <th>1</th>\n",
       "      <td>Yes</td>\n",
       "      <td>1510</td>\n",
       "      <td>1510</td>\n",
       "      <td>3020</td>\n",
       "      <td>50.000000</td>\n",
       "    </tr>\n",
       "  </tbody>\n",
       "</table>\n",
       "</div>"
      ],
      "text/plain": [
       "Hypertension HvyAlcoholConsump     No    Yes    All   Yes-Prop\n",
       "0                           No  29350  38322  67672  56.629034\n",
       "1                          Yes   1510   1510   3020  50.000000"
      ]
     },
     "execution_count": 169,
     "metadata": {},
     "output_type": "execute_result"
    }
   ],
   "source": [
    "crosstabs = pd.crosstab(index=da['HvyAlcoholConsump'], columns = da['Hypertension'], margins=True)\n",
    "crosstabs['Yes-Prop'] = crosstabs['Yes'] / crosstabs['All'] * 100\n",
    "crosstabs = crosstabs.drop('All')\n",
    "crosstabs.reset_index(inplace=True)\n",
    "crosstabs"
   ]
  },
  {
   "cell_type": "code",
   "execution_count": 170,
   "metadata": {},
   "outputs": [],
   "source": [
    "HAHprop = sns.barplot(x='HvyAlcoholConsump', y= 'Yes-Prop', data=crosstabs)\n",
    "HAHprop.bar_label(HAHprop.containers[0], fmt='%.2f%%')\n",
    "plt.title(\"Proportion of Heavy Alcohol Consumption with Hypertension\")\n",
    "plt.savefig('HAHprop.jpg')\n",
    "plt.close()"
   ]
  },
  {
   "attachments": {},
   "cell_type": "markdown",
   "metadata": {},
   "source": [
    "![](HAHprop.jpg)"
   ]
  },
  {
   "cell_type": "code",
   "execution_count": 171,
   "metadata": {},
   "outputs": [
    {
     "data": {
      "text/plain": [
       "(-7.189222370872304, 6.580343107954364e-13, 70690.0)"
      ]
     },
     "execution_count": 171,
     "metadata": {},
     "output_type": "execute_result"
    }
   ],
   "source": [
    "HSY = da.loc[da['HvyAlcoholConsump'] == 'Yes', \"Hypertension\"].replace({\"Yes\": 1, \"No\": 0})\n",
    "HSN = da.loc[da['HvyAlcoholConsump'] == 'No', \"Hypertension\"].replace({\"Yes\": 1, \"No\": 0})\n",
    "\n",
    "sm.stats.ttest_ind(HSY, HSN)"
   ]
  },
  {
   "cell_type": "code",
   "execution_count": 172,
   "metadata": {},
   "outputs": [
    {
     "data": {
      "text/html": [
       "<div>\n",
       "<style scoped>\n",
       "    .dataframe tbody tr th:only-of-type {\n",
       "        vertical-align: middle;\n",
       "    }\n",
       "\n",
       "    .dataframe tbody tr th {\n",
       "        vertical-align: top;\n",
       "    }\n",
       "\n",
       "    .dataframe thead th {\n",
       "        text-align: right;\n",
       "    }\n",
       "</style>\n",
       "<table border=\"1\" class=\"dataframe\">\n",
       "  <thead>\n",
       "    <tr style=\"text-align: right;\">\n",
       "      <th>Stroke</th>\n",
       "      <th>HvyAlcoholConsump</th>\n",
       "      <th>No</th>\n",
       "      <th>Yes</th>\n",
       "      <th>All</th>\n",
       "      <th>Yes-Prop</th>\n",
       "    </tr>\n",
       "  </thead>\n",
       "  <tbody>\n",
       "    <tr>\n",
       "      <th>0</th>\n",
       "      <td>No</td>\n",
       "      <td>63384</td>\n",
       "      <td>4288</td>\n",
       "      <td>67672</td>\n",
       "      <td>6.336446</td>\n",
       "    </tr>\n",
       "    <tr>\n",
       "      <th>1</th>\n",
       "      <td>Yes</td>\n",
       "      <td>2913</td>\n",
       "      <td>107</td>\n",
       "      <td>3020</td>\n",
       "      <td>3.543046</td>\n",
       "    </tr>\n",
       "  </tbody>\n",
       "</table>\n",
       "</div>"
      ],
      "text/plain": [
       "Stroke HvyAlcoholConsump     No   Yes    All  Yes-Prop\n",
       "0                     No  63384  4288  67672  6.336446\n",
       "1                    Yes   2913   107   3020  3.543046"
      ]
     },
     "execution_count": 172,
     "metadata": {},
     "output_type": "execute_result"
    }
   ],
   "source": [
    "crosstabs = pd.crosstab(index=da['HvyAlcoholConsump'], columns = da['Stroke'], margins=True)\n",
    "crosstabs['Yes-Prop'] = crosstabs['Yes'] / crosstabs['All'] * 100\n",
    "crosstabs = crosstabs.drop('All')\n",
    "crosstabs.reset_index(inplace=True)\n",
    "crosstabs"
   ]
  },
  {
   "cell_type": "code",
   "execution_count": 173,
   "metadata": {},
   "outputs": [],
   "source": [
    "HASprop = sns.barplot(x='HvyAlcoholConsump', y= 'Yes-Prop', data=crosstabs)\n",
    "HASprop.bar_label(HASprop.containers[0], fmt='%.2f%%')\n",
    "plt.title(\"Proportion of Heavy Alcohol Consumption with Stroke\")\n",
    "plt.savefig('HASprop.jpg')\n",
    "plt.close()"
   ]
  },
  {
   "attachments": {},
   "cell_type": "markdown",
   "metadata": {},
   "source": [
    "![](HASprop.jpg)"
   ]
  },
  {
   "cell_type": "code",
   "execution_count": 174,
   "metadata": {},
   "outputs": [
    {
     "data": {
      "text/plain": [
       "(-6.221750655059861, 4.943831774163434e-10, 70690.0)"
      ]
     },
     "execution_count": 174,
     "metadata": {},
     "output_type": "execute_result"
    }
   ],
   "source": [
    "HSY = da.loc[da['HvyAlcoholConsump'] == 'Yes', \"Stroke\"].replace({\"Yes\": 1, \"No\": 0})\n",
    "HSN = da.loc[da['HvyAlcoholConsump'] == 'No', \"Stroke\"].replace({\"Yes\": 1, \"No\": 0})\n",
    "\n",
    "sm.stats.ttest_ind(HSY, HSN)"
   ]
  },
  {
   "attachments": {},
   "cell_type": "markdown",
   "metadata": {},
   "source": [
    "Not many people are heavy consumers of alcohol. Among the people who are heavy drinkers, the amount of people who have diseases are much less than those who are not heavy drinkers. Using what I learned with my biology degree, this doesn't seem correct. There may be a couple reasons for this observation. One reason is that these heavy alcohol consumers wouldn't be willing to complete this survey. This would mean the population of heavy alcohol consumers is shown in this dataset. Another reason may be that heavy alcohol consumers dies much earlier due to their alcohol consumption. This reason is less likely and would need further proof to prove. \n",
    "\n",
    "Overall, I see that heavy alcohol consumption would not be great in this analysis or in the predictability."
   ]
  },
  {
   "attachments": {},
   "cell_type": "markdown",
   "metadata": {},
   "source": [
    "## Indepth Analysis\n"
   ]
  },
  {
   "attachments": {},
   "cell_type": "markdown",
   "metadata": {},
   "source": [
    "Gender and Age, Diabetes and Hypertension effects on Stroke,"
   ]
  },
  {
   "cell_type": "code",
   "execution_count": null,
   "metadata": {},
   "outputs": [],
   "source": []
  },
  {
   "cell_type": "markdown",
   "metadata": {},
   "source": [
    "## Analysis Overview"
   ]
  },
  {
   "attachments": {},
   "cell_type": "markdown",
   "metadata": {},
   "source": [
    "Overall, we analyzed the different behavioral risk factors of people with different disease states. We found that\n",
    " * The proportion of the people who had diabetes, hypertension, or stroke increased as the age groups increased (Age increased), with the highest being in the 12th age group.\n",
    " * Males tended to have diabetes and hypertension slightly more than females. This was not the case for strokes as both males and females had equal proportions of people who had strokes.\n",
    " * The population who had high cholestrol also had a high chance of having Diabetes and Hypertension while having an increased chance of having stroke.\n",
    " * The average BMI of those with disease was 31 while those without disease was 27. This shows that people who are obese tends to have one of the diseases. We also find that there exists a difference in the BMI among the three disease states.\n",
    " * Smokers are more likely to have disease states with the exception of strokes.\n",
    " * People with prior heart disease or attack generally diabetes and hypertension, with an increased proportion of strokes in their sample population. \n",
    " * People with no physical activity are very likely to have disease states.\n",
    "\n",
    "\n",
    "Although we were able to find these insights, it is important to note that these oberservations are part what is obsevered not causation or result of disease state. We are not able to prove that being obese will lead having diabetes or hypertension nor can we say having hypertension will make you obese. Another important thing to note is that the dataset was obtain through surveying. This can have an impact on our data, making it not as accurate as the population. People may state a lower BMI or other factors to make themselves look better. \n",
    "\n",
    "We also see that the proportion of strokes are much lower compared to diabetics and hypertensive people. This may be due to the lack of stroke surviors. A lot of people who had stroke die within a few years of having strokes. This is not the case for diabetes and hypertension as these are not as deadly as strokes and have much more resources to help them.\n"
   ]
  },
  {
   "cell_type": "markdown",
   "metadata": {},
   "source": [
    "# Machine Learning"
   ]
  },
  {
   "cell_type": "markdown",
   "metadata": {},
   "source": [
    "Using the information we gained, we want to see whether we can accurately predict whether a person has diabetes, hypertension, or stroke. We will use Decision Tree to help us predict our disease states. This is because decision trees are easy to understand and interpret and does not take long. We will also test different algorithms as well such as XGBoost and RandomForest to see which gives us the better accuracies."
   ]
  },
  {
   "cell_type": "code",
   "execution_count": 175,
   "metadata": {},
   "outputs": [],
   "source": [
    "da = pd.read_csv(url)"
   ]
  },
  {
   "cell_type": "code",
   "execution_count": 176,
   "metadata": {},
   "outputs": [
    {
     "data": {
      "text/html": [
       "<div>\n",
       "<style scoped>\n",
       "    .dataframe tbody tr th:only-of-type {\n",
       "        vertical-align: middle;\n",
       "    }\n",
       "\n",
       "    .dataframe tbody tr th {\n",
       "        vertical-align: top;\n",
       "    }\n",
       "\n",
       "    .dataframe thead th {\n",
       "        text-align: right;\n",
       "    }\n",
       "</style>\n",
       "<table border=\"1\" class=\"dataframe\">\n",
       "  <thead>\n",
       "    <tr style=\"text-align: right;\">\n",
       "      <th></th>\n",
       "      <th>Age</th>\n",
       "      <th>Sex</th>\n",
       "      <th>HighChol</th>\n",
       "      <th>BMI</th>\n",
       "      <th>Smoker</th>\n",
       "      <th>HeartDiseaseorAttack</th>\n",
       "      <th>PhysActivity</th>\n",
       "      <th>CholCheck</th>\n",
       "      <th>Fruits</th>\n",
       "      <th>Veggies</th>\n",
       "      <th>GenHlth</th>\n",
       "      <th>MentHlth</th>\n",
       "      <th>PhysHlth</th>\n",
       "      <th>DiffWalk</th>\n",
       "    </tr>\n",
       "  </thead>\n",
       "  <tbody>\n",
       "    <tr>\n",
       "      <th>0</th>\n",
       "      <td>4.0</td>\n",
       "      <td>1.0</td>\n",
       "      <td>0.0</td>\n",
       "      <td>26.0</td>\n",
       "      <td>0.0</td>\n",
       "      <td>0.0</td>\n",
       "      <td>1.0</td>\n",
       "      <td>1.0</td>\n",
       "      <td>0.0</td>\n",
       "      <td>1.0</td>\n",
       "      <td>3.0</td>\n",
       "      <td>5.0</td>\n",
       "      <td>30.0</td>\n",
       "      <td>0.0</td>\n",
       "    </tr>\n",
       "    <tr>\n",
       "      <th>1</th>\n",
       "      <td>12.0</td>\n",
       "      <td>1.0</td>\n",
       "      <td>1.0</td>\n",
       "      <td>26.0</td>\n",
       "      <td>1.0</td>\n",
       "      <td>0.0</td>\n",
       "      <td>0.0</td>\n",
       "      <td>1.0</td>\n",
       "      <td>1.0</td>\n",
       "      <td>0.0</td>\n",
       "      <td>3.0</td>\n",
       "      <td>0.0</td>\n",
       "      <td>0.0</td>\n",
       "      <td>0.0</td>\n",
       "    </tr>\n",
       "    <tr>\n",
       "      <th>2</th>\n",
       "      <td>13.0</td>\n",
       "      <td>1.0</td>\n",
       "      <td>0.0</td>\n",
       "      <td>26.0</td>\n",
       "      <td>0.0</td>\n",
       "      <td>0.0</td>\n",
       "      <td>1.0</td>\n",
       "      <td>1.0</td>\n",
       "      <td>1.0</td>\n",
       "      <td>1.0</td>\n",
       "      <td>1.0</td>\n",
       "      <td>0.0</td>\n",
       "      <td>10.0</td>\n",
       "      <td>0.0</td>\n",
       "    </tr>\n",
       "    <tr>\n",
       "      <th>3</th>\n",
       "      <td>11.0</td>\n",
       "      <td>1.0</td>\n",
       "      <td>1.0</td>\n",
       "      <td>28.0</td>\n",
       "      <td>1.0</td>\n",
       "      <td>0.0</td>\n",
       "      <td>1.0</td>\n",
       "      <td>1.0</td>\n",
       "      <td>1.0</td>\n",
       "      <td>1.0</td>\n",
       "      <td>3.0</td>\n",
       "      <td>0.0</td>\n",
       "      <td>3.0</td>\n",
       "      <td>0.0</td>\n",
       "    </tr>\n",
       "    <tr>\n",
       "      <th>4</th>\n",
       "      <td>8.0</td>\n",
       "      <td>0.0</td>\n",
       "      <td>0.0</td>\n",
       "      <td>29.0</td>\n",
       "      <td>1.0</td>\n",
       "      <td>0.0</td>\n",
       "      <td>1.0</td>\n",
       "      <td>1.0</td>\n",
       "      <td>1.0</td>\n",
       "      <td>1.0</td>\n",
       "      <td>2.0</td>\n",
       "      <td>0.0</td>\n",
       "      <td>0.0</td>\n",
       "      <td>0.0</td>\n",
       "    </tr>\n",
       "  </tbody>\n",
       "</table>\n",
       "</div>"
      ],
      "text/plain": [
       "    Age  Sex  HighChol   BMI  Smoker  HeartDiseaseorAttack  PhysActivity  \\\n",
       "0   4.0  1.0       0.0  26.0     0.0                   0.0           1.0   \n",
       "1  12.0  1.0       1.0  26.0     1.0                   0.0           0.0   \n",
       "2  13.0  1.0       0.0  26.0     0.0                   0.0           1.0   \n",
       "3  11.0  1.0       1.0  28.0     1.0                   0.0           1.0   \n",
       "4   8.0  0.0       0.0  29.0     1.0                   0.0           1.0   \n",
       "\n",
       "   CholCheck  Fruits  Veggies  GenHlth  MentHlth  PhysHlth  DiffWalk  \n",
       "0        1.0     0.0      1.0      3.0       5.0      30.0       0.0  \n",
       "1        1.0     1.0      0.0      3.0       0.0       0.0       0.0  \n",
       "2        1.0     1.0      1.0      1.0       0.0      10.0       0.0  \n",
       "3        1.0     1.0      1.0      3.0       0.0       3.0       0.0  \n",
       "4        1.0     1.0      1.0      2.0       0.0       0.0       0.0  "
      ]
     },
     "execution_count": 176,
     "metadata": {},
     "output_type": "execute_result"
    }
   ],
   "source": [
    "inputs = da[['Age',\t'Sex','HighChol','BMI',\t'Smoker','HeartDiseaseorAttack','PhysActivity', 'CholCheck', 'Fruits', 'Veggies', 'GenHlth', 'MentHlth', 'PhysHlth', 'DiffWalk']]\n",
    "# Using the 8 behavior risk factors gives the same accuracy as using all the factors.\n",
    "inputs.head()"
   ]
  },
  {
   "cell_type": "code",
   "execution_count": 177,
   "metadata": {},
   "outputs": [],
   "source": [
    "outputs = da['Diabetes']\n",
    "htoutputs = da['Hypertension']\n",
    "strokeoutputs = da['Stroke']"
   ]
  },
  {
   "cell_type": "markdown",
   "metadata": {},
   "source": [
    "## Diabetes\n"
   ]
  },
  {
   "cell_type": "code",
   "execution_count": 178,
   "metadata": {},
   "outputs": [],
   "source": [
    "X_train, X_test, y_train, y_test = train_test_split(\n",
    "    inputs, outputs, test_size =.3, random_state=42\n",
    ")"
   ]
  },
  {
   "cell_type": "code",
   "execution_count": 179,
   "metadata": {},
   "outputs": [],
   "source": [
    "pipe_DT = Pipeline(steps=[('dt', DecisionTreeClassifier(max_depth=9))])\n",
    "pipe_DT.fit(X_train, y_train)\n",
    "tr_pred_dtc = pipe_DT.predict(X_train)\n",
    "ts_pred_dtc = pipe_DT.predict(X_test)"
   ]
  },
  {
   "cell_type": "code",
   "execution_count": 180,
   "metadata": {},
   "outputs": [
    {
     "name": "stdout",
     "output_type": "stream",
     "text": [
      "training accuracy is: 0.7514550157626707\n",
      "testing accuracy is: 0.7388249717087891\n",
      "0.7388249717087891\n"
     ]
    }
   ],
   "source": [
    "print(\"training accuracy is:\",accuracy_score(y_train,tr_pred_dtc))\n",
    "print(\"testing accuracy is:\",accuracy_score(y_test,ts_pred_dtc))\n",
    "print(pipe_DT.score(X_test, y_test))"
   ]
  },
  {
   "cell_type": "code",
   "execution_count": 181,
   "metadata": {},
   "outputs": [
    {
     "name": "stdout",
     "output_type": "stream",
     "text": [
      "training accuracy is: 0.9574812060463989\n",
      "testing accuracy is: 0.7179837797057714\n",
      "0.7179837797057714\n"
     ]
    }
   ],
   "source": [
    "rfc = RandomForestClassifier(random_state = 42)\n",
    "model_rfc = rfc.fit(X_train, y_train)\n",
    "tr_pred_rfc = model_rfc.predict(X_train)\n",
    "ts_pred_rfc = model_rfc.predict(X_test)\n",
    "\n",
    "print(\"training accuracy is:\",accuracy_score(y_train,tr_pred_rfc))\n",
    "print(\"testing accuracy is:\",accuracy_score(y_test,ts_pred_rfc))\n",
    "print(model_rfc.score(X_test, y_test))"
   ]
  },
  {
   "cell_type": "code",
   "execution_count": 182,
   "metadata": {},
   "outputs": [
    {
     "name": "stdout",
     "output_type": "stream",
     "text": [
      "training accuracy is: 0.7726335785304341\n",
      "testing accuracy is: 0.7412297246322143\n",
      "0.7412297246322143\n"
     ]
    }
   ],
   "source": [
    "xgb = XGBClassifier(random_state = 42)\n",
    "model_xbg = xgb.fit(X_train, y_train)\n",
    "tr_pred_xbg = model_xbg.predict(X_train)\n",
    "ts_pred_xbg = model_xbg.predict(X_test)\n",
    "\n",
    "print(\"training accuracy is:\",accuracy_score(y_train,tr_pred_xbg))\n",
    "print(\"testing accuracy is:\",accuracy_score(y_test,ts_pred_xbg))\n",
    "print(model_xbg.score(X_test, y_test))"
   ]
  },
  {
   "cell_type": "markdown",
   "metadata": {},
   "source": [
    "XGBoost gives us the best result for prediciting people with diabetes when testing. Although this is the case, it seems that all of our trees give similar results being in the 73-75% accuracy range. This is a pretty good rate of accuracy since diabetes is an extremely common disease in the United States with 1/10 Americans having it(CDC). With it being common, the factors surrounding a diabetic person may be extremely varied from person to person. With more behavior risk factors more geared towards diabetes, models for diabetes can be more accurate."
   ]
  },
  {
   "cell_type": "markdown",
   "metadata": {},
   "source": [
    "## Hypertension"
   ]
  },
  {
   "cell_type": "code",
   "execution_count": 183,
   "metadata": {},
   "outputs": [
    {
     "name": "stdout",
     "output_type": "stream",
     "text": [
      "training accuracy is: 0.7465241290113976\n",
      "testing accuracy is: 0.7200584685024519\n",
      "0.7200584685024519\n"
     ]
    }
   ],
   "source": [
    "X_train, X_test, y_train, y_test = train_test_split(\n",
    "    inputs, htoutputs, test_size =.3, random_state=42\n",
    ")\n",
    "HypT_dt = DecisionTreeClassifier(max_depth=9)\n",
    "HypT_dt.fit(X_train, y_train)\n",
    "tr_pred_dtc = HypT_dt.predict(X_train)\n",
    "ts_pred_dtc = HypT_dt.predict(X_test)\n",
    "\n",
    "print(\"training accuracy is:\",accuracy_score(y_train,tr_pred_dtc))\n",
    "print(\"testing accuracy is:\",accuracy_score(y_test,ts_pred_dtc))\n",
    "print(HypT_dt.score(X_test, y_test))\n"
   ]
  },
  {
   "cell_type": "code",
   "execution_count": 184,
   "metadata": {},
   "outputs": [
    {
     "name": "stdout",
     "output_type": "stream",
     "text": [
      "training accuracy is: 0.9529140732357934\n",
      "testing accuracy is: 0.702093549603923\n",
      "0.702093549603923\n"
     ]
    }
   ],
   "source": [
    "rfc = RandomForestClassifier(random_state = 42)\n",
    "model_rfc = rfc.fit(X_train, y_train)\n",
    "tr_pred_rfc = model_rfc.predict(X_train)\n",
    "ts_pred_rfc = model_rfc.predict(X_test)\n",
    "\n",
    "print(\"training accuracy is:\",accuracy_score(y_train,tr_pred_rfc))\n",
    "print(\"testing accuracy is:\",accuracy_score(y_test,ts_pred_rfc))\n",
    "print(model_rfc.score(X_test, y_test))"
   ]
  },
  {
   "cell_type": "code",
   "execution_count": 185,
   "metadata": {},
   "outputs": [
    {
     "name": "stdout",
     "output_type": "stream",
     "text": [
      "training accuracy is: 0.7681068628243473\n",
      "testing accuracy is: 0.7281686156167484\n",
      "0.7281686156167484\n"
     ]
    }
   ],
   "source": [
    "xgb = XGBClassifier(random_state = 42)\n",
    "model_xbg = xgb.fit(X_train, y_train)\n",
    "tr_pred_xbg = model_xbg.predict(X_train)\n",
    "ts_pred_xbg = model_xbg.predict(X_test)\n",
    "\n",
    "print(\"training accuracy is:\",accuracy_score(y_train,tr_pred_xbg))\n",
    "print(\"testing accuracy is:\",accuracy_score(y_test,ts_pred_xbg))\n",
    "print(model_xbg.score(X_test, y_test))"
   ]
  },
  {
   "cell_type": "markdown",
   "metadata": {},
   "source": [
    "Random Forest gives us the best training accuracy with a 95.6% but XGBoost gives us the best testing accuracy at 72.8%. All the algorithms gives similar results for testing accuracy at a 70-73% range. This range is a pretty good range since, just like diabetes, hypertension is a very common in the United States with over half of all Americans having it (CDC). With more behavior risk factors geared towards hypertension, predictive models can become more accurate."
   ]
  },
  {
   "cell_type": "markdown",
   "metadata": {},
   "source": [
    "## Stroke"
   ]
  },
  {
   "cell_type": "code",
   "execution_count": 186,
   "metadata": {},
   "outputs": [
    {
     "name": "stdout",
     "output_type": "stream",
     "text": [
      "training accuracy is: 0.4148613693315011\n",
      "testing accuracy is: 0.41097698981516406\n",
      "0.41097698981516406\n"
     ]
    }
   ],
   "source": [
    "X_train, X_test, y_train, y_test = train_test_split(\n",
    "    inputs, strokeoutputs, test_size =.3, random_state=42\n",
    ")\n",
    "Stroke_dt = DecisionTreeClassifier(max_depth=9)\n",
    "Stroke_dt.fit(X_train, y_train)\n",
    "tr_pred_dtc = HypT_dt.predict(X_train)\n",
    "ts_pred_dtc = HypT_dt.predict(X_test)\n",
    "\n",
    "print(\"training accuracy is:\",accuracy_score(y_train,tr_pred_dtc))\n",
    "print(\"testing accuracy is:\",accuracy_score(y_test,ts_pred_dtc))\n",
    "print(HypT_dt.score(X_test, y_test))"
   ]
  },
  {
   "cell_type": "code",
   "execution_count": 187,
   "metadata": {},
   "outputs": [
    {
     "name": "stdout",
     "output_type": "stream",
     "text": [
      "training accuracy is: 0.9938566001131679\n",
      "testing accuracy is: 0.9315824217276499\n",
      "0.9315824217276499\n"
     ]
    }
   ],
   "source": [
    "rfc = RandomForestClassifier(random_state = 42)\n",
    "model_rfc = rfc.fit(X_train, y_train)\n",
    "tr_pred_rfc = model_rfc.predict(X_train)\n",
    "ts_pred_rfc = model_rfc.predict(X_test)\n",
    "\n",
    "print(\"training accuracy is:\",accuracy_score(y_train,tr_pred_rfc))\n",
    "print(\"testing accuracy is:\",accuracy_score(y_test,ts_pred_rfc))\n",
    "print(model_rfc.score(X_test, y_test))"
   ]
  },
  {
   "cell_type": "code",
   "execution_count": 188,
   "metadata": {},
   "outputs": [
    {
     "name": "stdout",
     "output_type": "stream",
     "text": [
      "training accuracy is: 0.9444264812868806\n",
      "testing accuracy is: 0.9359204073934364\n",
      "0.9359204073934364\n"
     ]
    }
   ],
   "source": [
    "xgb = XGBClassifier(random_state = 42)\n",
    "model_xbg = xgb.fit(X_train, y_train)\n",
    "tr_pred_xbg = model_xbg.predict(X_train)\n",
    "ts_pred_xbg = model_xbg.predict(X_test)\n",
    "\n",
    "print(\"training accuracy is:\",accuracy_score(y_train,tr_pred_xbg))\n",
    "print(\"testing accuracy is:\",accuracy_score(y_test,ts_pred_xbg))\n",
    "print(model_xbg.score(X_test, y_test))"
   ]
  },
  {
   "cell_type": "code",
   "execution_count": 189,
   "metadata": {},
   "outputs": [
    {
     "data": {
      "text/plain": [
       "Stroke        4395.0\n",
       "predicited     458.0\n",
       "dtype: float64"
      ]
     },
     "execution_count": 189,
     "metadata": {},
     "output_type": "execute_result"
    }
   ],
   "source": [
    "x = da.join(pd.DataFrame(model_xbg.predict(inputs), columns=['predicited']))[['Stroke','predicited']]\n",
    "x.sum()"
   ]
  },
  {
   "cell_type": "markdown",
   "metadata": {},
   "source": [
    "We see that Random Forest and XGBoost both do much better then Descision Tree with both having 93% accuracy compared to Decision Tree's 41%. Although this is the case, this might be due to the rarity of strokes. If most people never had strokes, then the model guessing no one has strokes would have high accuracy. I believe this is due to underrepesentation of Strokes in our data, something diabetes and hypertension does not have. If we got more data on the behavior risks of strokes, then we can build a very accurate model in predicitng strokes."
   ]
  },
  {
   "cell_type": "markdown",
   "metadata": {},
   "source": [
    "To see if performance of our model can be improved, we will attempt to change the data. One idea is to label the BMI's as overweight, obese, normal, or underweight and then using one hot encoding. This will cut down the variability of our data, thus may help increase performance of our model. We will also change the day varaibles for our physical health and mental health into weeks. This will allow us to be more general. There wouldnt be a difference between one or two days. For this reason we will change it into weeks.\n",
    "\n",
    "In addition, we will decrease the age groups. As of now we have 13 age groups. We attempt to lower this based on some criteras. One criteras if change it based on generations. This will give us wider groups. It may also allow us to see if theres patterns in the generations. Another would be changing the age group to fit 10 ages instead of the current 5."
   ]
  },
  {
   "cell_type": "code",
   "execution_count": 190,
   "metadata": {},
   "outputs": [],
   "source": [
    "weight = [] \n",
    "for x in da['BMI']: #Changing BMI into CDC classifications\n",
    "    if x < 18.5:\n",
    "        weight.append('Underweight')\n",
    "    elif x < 25:\n",
    "        weight.append('Healthy')\n",
    "    elif x < 30:\n",
    "        weight.append('Overweight')\n",
    "    else:\n",
    "        weight.append('Obese')\n",
    "\n",
    "da['weight'] = weight\n",
    "\n",
    "physhlth = []\n",
    "for x in da['PhysHlth']: # Changing PhysHlth into Weeks\n",
    "    if x < 7:\n",
    "        physhlth.append(1)\n",
    "    elif x < 14: \n",
    "        physhlth.append(2)\n",
    "    elif x < 21:\n",
    "        physhlth.append(3)\n",
    "    else:\n",
    "        physhlth.append(4)\n",
    "da['PhysHlthWeek'] = physhlth"
   ]
  },
  {
   "cell_type": "code",
   "execution_count": 191,
   "metadata": {},
   "outputs": [],
   "source": [
    "mentalhealth = []\n",
    "for x in da['MentHlth']: # Changing MentHlth into Weeks\n",
    "    if x < 7:\n",
    "        mentalhealth.append(1)\n",
    "    elif x < 14: \n",
    "        mentalhealth.append(2)\n",
    "    elif x < 21:\n",
    "        mentalhealth.append(3)\n",
    "    else:\n",
    "        mentalhealth.append(4)\n",
    "da['MentalHealth'] = mentalhealth"
   ]
  },
  {
   "cell_type": "code",
   "execution_count": 192,
   "metadata": {},
   "outputs": [],
   "source": [
    "# Changing Age group into generations: Age group 1 is from 18-24. Taken from 2015. 4 generations: Traditionalist(12-13), Baby Boomers (7-11), Gen X (5-6), Gen Y/Milennials (1-4)\n",
    "# Testing showed generation grouping performed worse then the original\n",
    "Generation = []\n",
    "for x in da['Age']:\n",
    "    if x < 5:\n",
    "        Generation.append('GenY')\n",
    "    elif x < 7:\n",
    "        Generation.append('GenX')\n",
    "    elif x < 12:\n",
    "        Generation.append('Baby Boomers')\n",
    "    else:\n",
    "        Generation.append('Traditionalist')\n",
    "\n",
    "da['Generation'] = Generation\n",
    "\n",
    "AgeGroup = []\n",
    "for x in da['Age']:\n",
    "    if x < 3:\n",
    "        AgeGroup.append(1)\n",
    "    elif x < 5:\n",
    "        AgeGroup.append(2)\n",
    "    elif x < 7: \n",
    "        AgeGroup.append(3)\n",
    "    elif x < 9:\n",
    "        AgeGroup.append(4)\n",
    "    elif x < 11: \n",
    "        AgeGroup.append(5)\n",
    "    else:\n",
    "        AgeGroup.append(6)\n",
    "\n",
    "da['AgeGroup'] = AgeGroup\n",
    "\n"
   ]
  },
  {
   "cell_type": "code",
   "execution_count": 193,
   "metadata": {},
   "outputs": [
    {
     "data": {
      "text/html": [
       "<div>\n",
       "<style scoped>\n",
       "    .dataframe tbody tr th:only-of-type {\n",
       "        vertical-align: middle;\n",
       "    }\n",
       "\n",
       "    .dataframe tbody tr th {\n",
       "        vertical-align: top;\n",
       "    }\n",
       "\n",
       "    .dataframe thead th {\n",
       "        text-align: right;\n",
       "    }\n",
       "</style>\n",
       "<table border=\"1\" class=\"dataframe\">\n",
       "  <thead>\n",
       "    <tr style=\"text-align: right;\">\n",
       "      <th></th>\n",
       "      <th>Age</th>\n",
       "      <th>Sex</th>\n",
       "      <th>HighChol</th>\n",
       "      <th>CholCheck</th>\n",
       "      <th>BMI</th>\n",
       "      <th>Smoker</th>\n",
       "      <th>HeartDiseaseorAttack</th>\n",
       "      <th>PhysActivity</th>\n",
       "      <th>Fruits</th>\n",
       "      <th>Veggies</th>\n",
       "      <th>...</th>\n",
       "      <th>PhysHlth</th>\n",
       "      <th>DiffWalk</th>\n",
       "      <th>Diabetes</th>\n",
       "      <th>Hypertension</th>\n",
       "      <th>Stroke</th>\n",
       "      <th>weight</th>\n",
       "      <th>PhysHlthWeek</th>\n",
       "      <th>MentalHealth</th>\n",
       "      <th>Generation</th>\n",
       "      <th>AgeGroup</th>\n",
       "    </tr>\n",
       "  </thead>\n",
       "  <tbody>\n",
       "    <tr>\n",
       "      <th>0</th>\n",
       "      <td>4.0</td>\n",
       "      <td>1.0</td>\n",
       "      <td>0.0</td>\n",
       "      <td>1.0</td>\n",
       "      <td>26.0</td>\n",
       "      <td>0.0</td>\n",
       "      <td>0.0</td>\n",
       "      <td>1.0</td>\n",
       "      <td>0.0</td>\n",
       "      <td>1.0</td>\n",
       "      <td>...</td>\n",
       "      <td>30.0</td>\n",
       "      <td>0.0</td>\n",
       "      <td>0.0</td>\n",
       "      <td>1.0</td>\n",
       "      <td>0.0</td>\n",
       "      <td>Overweight</td>\n",
       "      <td>4</td>\n",
       "      <td>1</td>\n",
       "      <td>GenY</td>\n",
       "      <td>2</td>\n",
       "    </tr>\n",
       "    <tr>\n",
       "      <th>1</th>\n",
       "      <td>12.0</td>\n",
       "      <td>1.0</td>\n",
       "      <td>1.0</td>\n",
       "      <td>1.0</td>\n",
       "      <td>26.0</td>\n",
       "      <td>1.0</td>\n",
       "      <td>0.0</td>\n",
       "      <td>0.0</td>\n",
       "      <td>1.0</td>\n",
       "      <td>0.0</td>\n",
       "      <td>...</td>\n",
       "      <td>0.0</td>\n",
       "      <td>0.0</td>\n",
       "      <td>0.0</td>\n",
       "      <td>1.0</td>\n",
       "      <td>1.0</td>\n",
       "      <td>Overweight</td>\n",
       "      <td>1</td>\n",
       "      <td>1</td>\n",
       "      <td>Traditionalist</td>\n",
       "      <td>6</td>\n",
       "    </tr>\n",
       "    <tr>\n",
       "      <th>2</th>\n",
       "      <td>13.0</td>\n",
       "      <td>1.0</td>\n",
       "      <td>0.0</td>\n",
       "      <td>1.0</td>\n",
       "      <td>26.0</td>\n",
       "      <td>0.0</td>\n",
       "      <td>0.0</td>\n",
       "      <td>1.0</td>\n",
       "      <td>1.0</td>\n",
       "      <td>1.0</td>\n",
       "      <td>...</td>\n",
       "      <td>10.0</td>\n",
       "      <td>0.0</td>\n",
       "      <td>0.0</td>\n",
       "      <td>0.0</td>\n",
       "      <td>0.0</td>\n",
       "      <td>Overweight</td>\n",
       "      <td>2</td>\n",
       "      <td>1</td>\n",
       "      <td>Traditionalist</td>\n",
       "      <td>6</td>\n",
       "    </tr>\n",
       "    <tr>\n",
       "      <th>3</th>\n",
       "      <td>11.0</td>\n",
       "      <td>1.0</td>\n",
       "      <td>1.0</td>\n",
       "      <td>1.0</td>\n",
       "      <td>28.0</td>\n",
       "      <td>1.0</td>\n",
       "      <td>0.0</td>\n",
       "      <td>1.0</td>\n",
       "      <td>1.0</td>\n",
       "      <td>1.0</td>\n",
       "      <td>...</td>\n",
       "      <td>3.0</td>\n",
       "      <td>0.0</td>\n",
       "      <td>0.0</td>\n",
       "      <td>1.0</td>\n",
       "      <td>0.0</td>\n",
       "      <td>Overweight</td>\n",
       "      <td>1</td>\n",
       "      <td>1</td>\n",
       "      <td>Baby Boomers</td>\n",
       "      <td>6</td>\n",
       "    </tr>\n",
       "    <tr>\n",
       "      <th>4</th>\n",
       "      <td>8.0</td>\n",
       "      <td>0.0</td>\n",
       "      <td>0.0</td>\n",
       "      <td>1.0</td>\n",
       "      <td>29.0</td>\n",
       "      <td>1.0</td>\n",
       "      <td>0.0</td>\n",
       "      <td>1.0</td>\n",
       "      <td>1.0</td>\n",
       "      <td>1.0</td>\n",
       "      <td>...</td>\n",
       "      <td>0.0</td>\n",
       "      <td>0.0</td>\n",
       "      <td>0.0</td>\n",
       "      <td>0.0</td>\n",
       "      <td>0.0</td>\n",
       "      <td>Overweight</td>\n",
       "      <td>1</td>\n",
       "      <td>1</td>\n",
       "      <td>Baby Boomers</td>\n",
       "      <td>4</td>\n",
       "    </tr>\n",
       "    <tr>\n",
       "      <th>...</th>\n",
       "      <td>...</td>\n",
       "      <td>...</td>\n",
       "      <td>...</td>\n",
       "      <td>...</td>\n",
       "      <td>...</td>\n",
       "      <td>...</td>\n",
       "      <td>...</td>\n",
       "      <td>...</td>\n",
       "      <td>...</td>\n",
       "      <td>...</td>\n",
       "      <td>...</td>\n",
       "      <td>...</td>\n",
       "      <td>...</td>\n",
       "      <td>...</td>\n",
       "      <td>...</td>\n",
       "      <td>...</td>\n",
       "      <td>...</td>\n",
       "      <td>...</td>\n",
       "      <td>...</td>\n",
       "      <td>...</td>\n",
       "      <td>...</td>\n",
       "    </tr>\n",
       "    <tr>\n",
       "      <th>70687</th>\n",
       "      <td>6.0</td>\n",
       "      <td>0.0</td>\n",
       "      <td>1.0</td>\n",
       "      <td>1.0</td>\n",
       "      <td>37.0</td>\n",
       "      <td>0.0</td>\n",
       "      <td>0.0</td>\n",
       "      <td>0.0</td>\n",
       "      <td>0.0</td>\n",
       "      <td>1.0</td>\n",
       "      <td>...</td>\n",
       "      <td>0.0</td>\n",
       "      <td>0.0</td>\n",
       "      <td>1.0</td>\n",
       "      <td>0.0</td>\n",
       "      <td>0.0</td>\n",
       "      <td>Obese</td>\n",
       "      <td>1</td>\n",
       "      <td>1</td>\n",
       "      <td>GenX</td>\n",
       "      <td>3</td>\n",
       "    </tr>\n",
       "    <tr>\n",
       "      <th>70688</th>\n",
       "      <td>10.0</td>\n",
       "      <td>1.0</td>\n",
       "      <td>1.0</td>\n",
       "      <td>1.0</td>\n",
       "      <td>29.0</td>\n",
       "      <td>1.0</td>\n",
       "      <td>1.0</td>\n",
       "      <td>0.0</td>\n",
       "      <td>1.0</td>\n",
       "      <td>1.0</td>\n",
       "      <td>...</td>\n",
       "      <td>0.0</td>\n",
       "      <td>1.0</td>\n",
       "      <td>1.0</td>\n",
       "      <td>0.0</td>\n",
       "      <td>0.0</td>\n",
       "      <td>Overweight</td>\n",
       "      <td>1</td>\n",
       "      <td>1</td>\n",
       "      <td>Baby Boomers</td>\n",
       "      <td>5</td>\n",
       "    </tr>\n",
       "    <tr>\n",
       "      <th>70689</th>\n",
       "      <td>13.0</td>\n",
       "      <td>0.0</td>\n",
       "      <td>1.0</td>\n",
       "      <td>1.0</td>\n",
       "      <td>25.0</td>\n",
       "      <td>0.0</td>\n",
       "      <td>1.0</td>\n",
       "      <td>0.0</td>\n",
       "      <td>1.0</td>\n",
       "      <td>0.0</td>\n",
       "      <td>...</td>\n",
       "      <td>0.0</td>\n",
       "      <td>1.0</td>\n",
       "      <td>1.0</td>\n",
       "      <td>1.0</td>\n",
       "      <td>0.0</td>\n",
       "      <td>Overweight</td>\n",
       "      <td>1</td>\n",
       "      <td>3</td>\n",
       "      <td>Traditionalist</td>\n",
       "      <td>6</td>\n",
       "    </tr>\n",
       "    <tr>\n",
       "      <th>70690</th>\n",
       "      <td>11.0</td>\n",
       "      <td>0.0</td>\n",
       "      <td>1.0</td>\n",
       "      <td>1.0</td>\n",
       "      <td>18.0</td>\n",
       "      <td>0.0</td>\n",
       "      <td>0.0</td>\n",
       "      <td>0.0</td>\n",
       "      <td>0.0</td>\n",
       "      <td>0.0</td>\n",
       "      <td>...</td>\n",
       "      <td>0.0</td>\n",
       "      <td>1.0</td>\n",
       "      <td>1.0</td>\n",
       "      <td>1.0</td>\n",
       "      <td>0.0</td>\n",
       "      <td>Underweight</td>\n",
       "      <td>1</td>\n",
       "      <td>1</td>\n",
       "      <td>Baby Boomers</td>\n",
       "      <td>6</td>\n",
       "    </tr>\n",
       "    <tr>\n",
       "      <th>70691</th>\n",
       "      <td>9.0</td>\n",
       "      <td>0.0</td>\n",
       "      <td>1.0</td>\n",
       "      <td>1.0</td>\n",
       "      <td>25.0</td>\n",
       "      <td>0.0</td>\n",
       "      <td>1.0</td>\n",
       "      <td>1.0</td>\n",
       "      <td>1.0</td>\n",
       "      <td>0.0</td>\n",
       "      <td>...</td>\n",
       "      <td>0.0</td>\n",
       "      <td>0.0</td>\n",
       "      <td>1.0</td>\n",
       "      <td>1.0</td>\n",
       "      <td>0.0</td>\n",
       "      <td>Overweight</td>\n",
       "      <td>1</td>\n",
       "      <td>1</td>\n",
       "      <td>Baby Boomers</td>\n",
       "      <td>5</td>\n",
       "    </tr>\n",
       "  </tbody>\n",
       "</table>\n",
       "<p>70692 rows × 23 columns</p>\n",
       "</div>"
      ],
      "text/plain": [
       "        Age  Sex  HighChol  CholCheck   BMI  Smoker  HeartDiseaseorAttack  \\\n",
       "0       4.0  1.0       0.0        1.0  26.0     0.0                   0.0   \n",
       "1      12.0  1.0       1.0        1.0  26.0     1.0                   0.0   \n",
       "2      13.0  1.0       0.0        1.0  26.0     0.0                   0.0   \n",
       "3      11.0  1.0       1.0        1.0  28.0     1.0                   0.0   \n",
       "4       8.0  0.0       0.0        1.0  29.0     1.0                   0.0   \n",
       "...     ...  ...       ...        ...   ...     ...                   ...   \n",
       "70687   6.0  0.0       1.0        1.0  37.0     0.0                   0.0   \n",
       "70688  10.0  1.0       1.0        1.0  29.0     1.0                   1.0   \n",
       "70689  13.0  0.0       1.0        1.0  25.0     0.0                   1.0   \n",
       "70690  11.0  0.0       1.0        1.0  18.0     0.0                   0.0   \n",
       "70691   9.0  0.0       1.0        1.0  25.0     0.0                   1.0   \n",
       "\n",
       "       PhysActivity  Fruits  Veggies  ...  PhysHlth  DiffWalk  Diabetes  \\\n",
       "0               1.0     0.0      1.0  ...      30.0       0.0       0.0   \n",
       "1               0.0     1.0      0.0  ...       0.0       0.0       0.0   \n",
       "2               1.0     1.0      1.0  ...      10.0       0.0       0.0   \n",
       "3               1.0     1.0      1.0  ...       3.0       0.0       0.0   \n",
       "4               1.0     1.0      1.0  ...       0.0       0.0       0.0   \n",
       "...             ...     ...      ...  ...       ...       ...       ...   \n",
       "70687           0.0     0.0      1.0  ...       0.0       0.0       1.0   \n",
       "70688           0.0     1.0      1.0  ...       0.0       1.0       1.0   \n",
       "70689           0.0     1.0      0.0  ...       0.0       1.0       1.0   \n",
       "70690           0.0     0.0      0.0  ...       0.0       1.0       1.0   \n",
       "70691           1.0     1.0      0.0  ...       0.0       0.0       1.0   \n",
       "\n",
       "       Hypertension  Stroke       weight  PhysHlthWeek  MentalHealth  \\\n",
       "0               1.0     0.0   Overweight             4             1   \n",
       "1               1.0     1.0   Overweight             1             1   \n",
       "2               0.0     0.0   Overweight             2             1   \n",
       "3               1.0     0.0   Overweight             1             1   \n",
       "4               0.0     0.0   Overweight             1             1   \n",
       "...             ...     ...          ...           ...           ...   \n",
       "70687           0.0     0.0        Obese             1             1   \n",
       "70688           0.0     0.0   Overweight             1             1   \n",
       "70689           1.0     0.0   Overweight             1             3   \n",
       "70690           1.0     0.0  Underweight             1             1   \n",
       "70691           1.0     0.0   Overweight             1             1   \n",
       "\n",
       "           Generation  AgeGroup  \n",
       "0                GenY         2  \n",
       "1      Traditionalist         6  \n",
       "2      Traditionalist         6  \n",
       "3        Baby Boomers         6  \n",
       "4        Baby Boomers         4  \n",
       "...               ...       ...  \n",
       "70687            GenX         3  \n",
       "70688    Baby Boomers         5  \n",
       "70689  Traditionalist         6  \n",
       "70690    Baby Boomers         6  \n",
       "70691    Baby Boomers         5  \n",
       "\n",
       "[70692 rows x 23 columns]"
      ]
     },
     "execution_count": 193,
     "metadata": {},
     "output_type": "execute_result"
    }
   ],
   "source": [
    "da"
   ]
  },
  {
   "cell_type": "code",
   "execution_count": 194,
   "metadata": {},
   "outputs": [
    {
     "data": {
      "text/html": [
       "<div>\n",
       "<style scoped>\n",
       "    .dataframe tbody tr th:only-of-type {\n",
       "        vertical-align: middle;\n",
       "    }\n",
       "\n",
       "    .dataframe tbody tr th {\n",
       "        vertical-align: top;\n",
       "    }\n",
       "\n",
       "    .dataframe thead th {\n",
       "        text-align: right;\n",
       "    }\n",
       "</style>\n",
       "<table border=\"1\" class=\"dataframe\">\n",
       "  <thead>\n",
       "    <tr style=\"text-align: right;\">\n",
       "      <th></th>\n",
       "      <th>Generation</th>\n",
       "      <th>Sex</th>\n",
       "      <th>HighChol</th>\n",
       "      <th>weight</th>\n",
       "      <th>Smoker</th>\n",
       "      <th>HeartDiseaseorAttack</th>\n",
       "      <th>PhysActivity</th>\n",
       "      <th>CholCheck</th>\n",
       "      <th>Fruits</th>\n",
       "      <th>Veggies</th>\n",
       "      <th>GenHlth</th>\n",
       "      <th>MentalHealth</th>\n",
       "      <th>PhysHlthWeek</th>\n",
       "      <th>DiffWalk</th>\n",
       "    </tr>\n",
       "  </thead>\n",
       "  <tbody>\n",
       "    <tr>\n",
       "      <th>0</th>\n",
       "      <td>GenY</td>\n",
       "      <td>1.0</td>\n",
       "      <td>0.0</td>\n",
       "      <td>Overweight</td>\n",
       "      <td>0.0</td>\n",
       "      <td>0.0</td>\n",
       "      <td>1.0</td>\n",
       "      <td>1.0</td>\n",
       "      <td>0.0</td>\n",
       "      <td>1.0</td>\n",
       "      <td>3.0</td>\n",
       "      <td>1</td>\n",
       "      <td>4</td>\n",
       "      <td>0.0</td>\n",
       "    </tr>\n",
       "    <tr>\n",
       "      <th>1</th>\n",
       "      <td>Traditionalist</td>\n",
       "      <td>1.0</td>\n",
       "      <td>1.0</td>\n",
       "      <td>Overweight</td>\n",
       "      <td>1.0</td>\n",
       "      <td>0.0</td>\n",
       "      <td>0.0</td>\n",
       "      <td>1.0</td>\n",
       "      <td>1.0</td>\n",
       "      <td>0.0</td>\n",
       "      <td>3.0</td>\n",
       "      <td>1</td>\n",
       "      <td>1</td>\n",
       "      <td>0.0</td>\n",
       "    </tr>\n",
       "    <tr>\n",
       "      <th>2</th>\n",
       "      <td>Traditionalist</td>\n",
       "      <td>1.0</td>\n",
       "      <td>0.0</td>\n",
       "      <td>Overweight</td>\n",
       "      <td>0.0</td>\n",
       "      <td>0.0</td>\n",
       "      <td>1.0</td>\n",
       "      <td>1.0</td>\n",
       "      <td>1.0</td>\n",
       "      <td>1.0</td>\n",
       "      <td>1.0</td>\n",
       "      <td>1</td>\n",
       "      <td>2</td>\n",
       "      <td>0.0</td>\n",
       "    </tr>\n",
       "    <tr>\n",
       "      <th>3</th>\n",
       "      <td>Baby Boomers</td>\n",
       "      <td>1.0</td>\n",
       "      <td>1.0</td>\n",
       "      <td>Overweight</td>\n",
       "      <td>1.0</td>\n",
       "      <td>0.0</td>\n",
       "      <td>1.0</td>\n",
       "      <td>1.0</td>\n",
       "      <td>1.0</td>\n",
       "      <td>1.0</td>\n",
       "      <td>3.0</td>\n",
       "      <td>1</td>\n",
       "      <td>1</td>\n",
       "      <td>0.0</td>\n",
       "    </tr>\n",
       "    <tr>\n",
       "      <th>4</th>\n",
       "      <td>Baby Boomers</td>\n",
       "      <td>0.0</td>\n",
       "      <td>0.0</td>\n",
       "      <td>Overweight</td>\n",
       "      <td>1.0</td>\n",
       "      <td>0.0</td>\n",
       "      <td>1.0</td>\n",
       "      <td>1.0</td>\n",
       "      <td>1.0</td>\n",
       "      <td>1.0</td>\n",
       "      <td>2.0</td>\n",
       "      <td>1</td>\n",
       "      <td>1</td>\n",
       "      <td>0.0</td>\n",
       "    </tr>\n",
       "  </tbody>\n",
       "</table>\n",
       "</div>"
      ],
      "text/plain": [
       "       Generation  Sex  HighChol      weight  Smoker  HeartDiseaseorAttack  \\\n",
       "0            GenY  1.0       0.0  Overweight     0.0                   0.0   \n",
       "1  Traditionalist  1.0       1.0  Overweight     1.0                   0.0   \n",
       "2  Traditionalist  1.0       0.0  Overweight     0.0                   0.0   \n",
       "3    Baby Boomers  1.0       1.0  Overweight     1.0                   0.0   \n",
       "4    Baby Boomers  0.0       0.0  Overweight     1.0                   0.0   \n",
       "\n",
       "   PhysActivity  CholCheck  Fruits  Veggies  GenHlth  MentalHealth  \\\n",
       "0           1.0        1.0     0.0      1.0      3.0             1   \n",
       "1           0.0        1.0     1.0      0.0      3.0             1   \n",
       "2           1.0        1.0     1.0      1.0      1.0             1   \n",
       "3           1.0        1.0     1.0      1.0      3.0             1   \n",
       "4           1.0        1.0     1.0      1.0      2.0             1   \n",
       "\n",
       "   PhysHlthWeek  DiffWalk  \n",
       "0             4       0.0  \n",
       "1             1       0.0  \n",
       "2             2       0.0  \n",
       "3             1       0.0  \n",
       "4             1       0.0  "
      ]
     },
     "execution_count": 194,
     "metadata": {},
     "output_type": "execute_result"
    }
   ],
   "source": [
    "inputs = da[['Generation',\t'Sex','HighChol','weight','Smoker','HeartDiseaseorAttack','PhysActivity', 'CholCheck', 'Fruits', 'Veggies', 'GenHlth', 'MentalHealth', 'PhysHlthWeek', 'DiffWalk']]\n",
    "# Using the 8 behavior risk factors gives the same accuracy as using all the factors. Stroke inputs would include diabetes and hypertension since both are risk factors for stroke.\n",
    "inputs.head()"
   ]
  },
  {
   "cell_type": "code",
   "execution_count": 195,
   "metadata": {},
   "outputs": [],
   "source": [
    "X_train, X_test, y_train, y_test = train_test_split(\n",
    "    inputs, outputs, test_size =.3, random_state=42\n",
    ")"
   ]
  },
  {
   "cell_type": "code",
   "execution_count": 196,
   "metadata": {},
   "outputs": [
    {
     "name": "stdout",
     "output_type": "stream",
     "text": [
      "training accuracy is: 0.7578207097243553\n",
      "testing accuracy is: 0.7356186344775556\n",
      "0.7356186344775556\n"
     ]
    }
   ],
   "source": [
    "pipe_ohe_XG = Pipeline(steps=[('ohe', OneHotEncoder(handle_unknown='ignore')),\n",
    "    ('XG',XGBClassifier(random_state = 42))])\n",
    "pipe_ohe_XG.fit(X_train, y_train)\n",
    "tr_pred_dtc = pipe_ohe_XG.predict(X_train)\n",
    "ts_pred_dtc = pipe_ohe_XG.predict(X_test)\n",
    "\n",
    "print(\"training accuracy is:\",accuracy_score(y_train,tr_pred_dtc))\n",
    "print(\"testing accuracy is:\",accuracy_score(y_test,ts_pred_dtc))\n",
    "print(pipe_ohe_XG.score(X_test, y_test))"
   ]
  },
  {
   "attachments": {},
   "cell_type": "markdown",
   "metadata": {},
   "source": [
    "The training and testing accuracy was marginally lowered when the data was manipulated to run easier. It is about a 1% decrease for both accuracy across the three diseases. This tells us that manipulation of data does not impact our model much at all. Although this is the case, we can be certain about the impacts on the model if we were able to get the data from the BRFSS in the recent years. This can help us accurately assess our model's performance in practice."
   ]
  },
  {
   "cell_type": "markdown",
   "metadata": {},
   "source": []
  }
 ],
 "metadata": {
  "kernelspec": {
   "display_name": "Python 3.10.2 64-bit",
   "language": "python",
   "name": "python3"
  },
  "language_info": {
   "codemirror_mode": {
    "name": "ipython",
    "version": 3
   },
   "file_extension": ".py",
   "mimetype": "text/x-python",
   "name": "python",
   "nbconvert_exporter": "python",
   "pygments_lexer": "ipython3",
   "version": "3.10.2 (tags/v3.10.2:a58ebcc, Jan 17 2022, 14:12:15) [MSC v.1929 64 bit (AMD64)]"
  },
  "orig_nbformat": 4,
  "vscode": {
   "interpreter": {
    "hash": "369f2c481f4da34e4445cda3fffd2e751bd1c4d706f27375911949ba6bb62e1c"
   }
  }
 },
 "nbformat": 4,
 "nbformat_minor": 2
}
